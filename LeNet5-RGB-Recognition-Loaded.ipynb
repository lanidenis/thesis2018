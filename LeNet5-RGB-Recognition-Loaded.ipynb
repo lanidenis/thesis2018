{
 "cells": [
  {
   "cell_type": "code",
   "execution_count": 44,
   "metadata": {},
   "outputs": [],
   "source": [
    "import time\n",
    "\n",
    "import numpy as np\n",
    "import matplotlib.pyplot as plt\n",
    "import scipy.signal\n",
    "\n",
    "# using scipy's 2d convolution function\n",
    "conv2 = scipy.signal.convolve2d # modes include \"full\", \"valid\", and \"same\""
   ]
  },
  {
   "cell_type": "code",
   "execution_count": 2,
   "metadata": {},
   "outputs": [],
   "source": [
    "topten = [2, 1, 13, 12, 38, 10, 4, 5, 25, 9]\n",
    "index_map = {}\n",
    "for i, sign in enumerate(topten):\n",
    "    index_map[sign] = i"
   ]
  },
  {
   "cell_type": "code",
   "execution_count": 3,
   "metadata": {},
   "outputs": [],
   "source": [
    "loaded = np.load('/tmp/lenet5.npz') \n",
    "x0=loaded['x0']\n",
    "x1=loaded['x1'] \n",
    "x1p=loaded['x1p']\n",
    "x2=loaded['x2'] \n",
    "x2p=loaded['x2p']\n",
    "x3=loaded['x3']\n",
    "x3p=loaded['x3p']\n",
    "epsinit=loaded['epsinit']\n",
    "eta=loaded['eta'] \n",
    "n0=loaded['n0']\n",
    "n1=loaded['n1']\n",
    "n2=loaded['n2'] \n",
    "n3=loaded['n3'] \n",
    "w1=loaded['w1'] \n",
    "w2=loaded['w2'] \n",
    "w3=loaded['w3']\n",
    "b1=loaded['b1']\n",
    "b1p=loaded['b1p']\n",
    "b2=loaded['b2']\n",
    "b2p=loaded['b2p'] \n",
    "b3=loaded['b3'] \n",
    "b3p=loaded['b3p'] \n",
    "n4=loaded['n4']\n",
    "n5=loaded['n5'] \n",
    "n6=loaded['n6'] \n",
    "W4=loaded['W4']\n",
    "W5=loaded['W5']\n",
    "W6=loaded['W6']\n",
    "b4=loaded['b4'] \n",
    "b5=loaded['b5'] \n",
    "b6=loaded['b6']"
   ]
  },
  {
   "cell_type": "code",
   "execution_count": 4,
   "metadata": {},
   "outputs": [
    {
     "data": {
      "text/plain": [
       "(3, 40, 40)"
      ]
     },
     "execution_count": 4,
     "metadata": {},
     "output_type": "execute_result"
    }
   ],
   "source": [
    "x0.shape"
   ]
  },
  {
   "cell_type": "code",
   "execution_count": 5,
   "metadata": {},
   "outputs": [
    {
     "data": {
      "text/plain": [
       "(160, 180)"
      ]
     },
     "execution_count": 5,
     "metadata": {},
     "output_type": "execute_result"
    }
   ],
   "source": [
    "W4.shape"
   ]
  },
  {
   "cell_type": "code",
   "execution_count": 6,
   "metadata": {},
   "outputs": [],
   "source": [
    "def f(x): # hyperbolic tangent activation function\n",
    "    return np.tanh(x)\n",
    "def df(y): # derivative of f composed with inverse of f\n",
    "    return 1 - np.multiply(y, y)\n",
    "\n",
    "def maxpool(images):\n",
    "    # 2x2 max pooling for set of images\n",
    "    # returns MAXIMA, WINNERS\n",
    "    # MAXIMA 2x smaller image, maximum of each 2x2 patch\n",
    "    # WINNERS 2x smaller image, argmax (1..4) of each 2x2 patch\n",
    "\n",
    "    [k, m, n] = images.shape  # mxn images, k of them\n",
    "    # reshape to k x 2 x m/2 x 2 x n/2\n",
    "    #print(m/2)\n",
    "    #print(n/2)\n",
    "    im_re = np.reshape(images, (k, m/2, 2, n/2, 2))\n",
    "    maxima = np.amax(np.amax(im_re, 4), 2)\n",
    "    \n",
    "    # obtain \"flat\" indices for each element\n",
    "    inds = np.reshape(np.array(range(im_re.size)), im_re.shape)\n",
    "    \n",
    "    # run two-step argmax to determine winning indices\n",
    "    curr_inds = np.argmax(im_re, 4)\n",
    "    dim0, dim1, dim2, dim3 = np.indices(curr_inds.shape)\n",
    "    inds = inds[dim0, dim1, dim2, dim3, curr_inds]\n",
    "    im_re = np.amax(im_re, 4)\n",
    "    curr_inds = np.argmax(im_re, 2)\n",
    "    dim0, dim1, dim3 = np.indices(curr_inds.shape)\n",
    "    winners = inds[dim0, dim1, curr_inds, dim3]\n",
    "    return maxima, winners"
   ]
  },
  {
   "cell_type": "code",
   "execution_count": 7,
   "metadata": {},
   "outputs": [],
   "source": [
    "def convert(sample):\n",
    "    return np.array([sample[:,:,0],sample[:,:,1],sample[:,:,2]])"
   ]
  },
  {
   "cell_type": "code",
   "execution_count": 8,
   "metadata": {},
   "outputs": [],
   "source": [
    "def forward_pass(sample):\n",
    "    global epsinit, eta, n0, n1, n2, n3, w1, w2, w3\n",
    "    global b1, b1p, b2, b2p, b3, b3p, n4, n5, n6, W4, W5, W6, b4, b5, b6\n",
    "    global x0, x1, x1p, x2, x2p, x3, x3p\n",
    "\n",
    "    x0 = convert(sample)\n",
    "\n",
    "    x1 = np.zeros(x1.shape)   # valid convolution by w1 reduces image size by 2\n",
    "    x1p = np.zeros(x1p.shape)  # pooling reduces image size by 2x\n",
    "    x2 = np.zeros(x2.shape)   # convolution by w2 reduces image size by 3\n",
    "    x2p = np.zeros(x2p.shape)    # pooling reduces image size by 2x\n",
    "    x3 = np.zeros(x3.shape)     # convolution by w3 reduces image size by 2\n",
    "    x3p = np.zeros(x3p.shape)    # pooling reduces image size by 2x\n",
    "\n",
    "    for i in range(n1):\n",
    "        for j in range(n0):\n",
    "            x1[i,:,:] += conv2(x0[j,:,:], w1[i,j,:,:], \"valid\")\n",
    "\n",
    "    for i in range(n1):\n",
    "        x1[i,:,:] = x1[i,:,:] + b1[i]\n",
    "\n",
    "    x1 = f(x1)\n",
    "    #print(x1.shape)\n",
    "\n",
    "    #x1p, x1w = maxpool(x1)\n",
    "\n",
    "    for i in range(n1):\n",
    "        x1p[i,:,:] = x1p[i,:,:] + b1p[i]\n",
    "\n",
    "    x1p, x1w = maxpool(x1)\n",
    "\n",
    "    for i in range(n2):\n",
    "        for j in range(n1):\n",
    "            x2[i,:,:] += conv2(x1p[j,:,:], w2[i,j,:,:], \"valid\")\n",
    "\n",
    "    for i in range(n2):\n",
    "        x2[i,:,:] = x2[i,:,:] + b2[i]\n",
    "\n",
    "    x2 = f(x2)\n",
    "\n",
    "    #x2p, x2w = maxpool(x2)\n",
    "\n",
    "    for i in range(n2):\n",
    "        x2p[i,:,:] = x2p[i,:,:] + b2p[i]\n",
    "\n",
    "    x2p, x2w = maxpool(x2)\n",
    "\n",
    "    for i in range(n3):\n",
    "        for j in range(n2):\n",
    "            x3[i,:,:] += conv2(x2p[j,:,:], w3[i,j,:,:], \"valid\")\n",
    "\n",
    "    for i in range(n3):\n",
    "        x3[i,:,:] = x3[i,:,:] + b3[i]\n",
    "\n",
    "    x3 = f(x3)\n",
    "\n",
    "    x3p, x3w = maxpool(x3)\n",
    "\n",
    "    for i in range(n3):\n",
    "        x3p[i,:,:] = x3p[i,:,:] + b3p[i]\n",
    "\n",
    "    # discard 2D organization of x3p by reshaping to x3p(:)\n",
    "    x4 = f(np.dot(W4,np.reshape(x3p,-1)) + b4)\n",
    "    x5 = f(np.dot(W5,x4) + b5)\n",
    "    x6 = f(np.dot(W6,x5) + b6)\n",
    "    #x6 = f(np.dot(W6,x5) + b6)\n",
    "    prediction = np.argmax(x6)\n",
    "    \n",
    "    return topten[prediction]\n",
    "     "
   ]
  },
  {
   "cell_type": "code",
   "execution_count": 9,
   "metadata": {},
   "outputs": [],
   "source": [
    "loaded = np.load('/tmp/classification.npz')\n",
    "positives = loaded['positives']\n",
    "pos_label = loaded['pos_label']"
   ]
  },
  {
   "cell_type": "code",
   "execution_count": 23,
   "metadata": {},
   "outputs": [
    {
     "name": "stdout",
     "output_type": "stream",
     "text": [
      "Actual Label: \n",
      "1\n",
      "Prediction: \n",
      "1\n"
     ]
    }
   ],
   "source": [
    "n = np.random.randint(len(positives) + 1)\n",
    "print(\"Actual Label: \")\n",
    "print(pos_label[n])\n",
    "plt.imshow(positives[n])\n",
    "print(\"Prediction: \")\n",
    "print(forward_pass(positives[n]))"
   ]
  },
  {
   "cell_type": "code",
   "execution_count": 29,
   "metadata": {},
   "outputs": [],
   "source": [
    "#shuffle data\n",
    "positives = np.array(positives)\n",
    "pos_label = np.array(pos_label)\n",
    "indexes = [i for i in range(0,len(positives))]\n",
    "np.random.shuffle(indexes)\n",
    "positives = positives[indexes]\n",
    "pos_label = pos_label[indexes]"
   ]
  },
  {
   "cell_type": "code",
   "execution_count": 30,
   "metadata": {},
   "outputs": [
    {
     "data": {
      "text/plain": [
       "(18971, 40, 40, 3)"
      ]
     },
     "execution_count": 30,
     "metadata": {},
     "output_type": "execute_result"
    }
   ],
   "source": [
    "positives.shape"
   ]
  },
  {
   "cell_type": "code",
   "execution_count": 62,
   "metadata": {},
   "outputs": [
    {
     "name": "stdout",
     "output_type": "stream",
     "text": [
      "--- 163.757057905 seconds ---\n"
     ]
    }
   ],
   "source": [
    "start_time = time.time()\n",
    "predictions = []\n",
    "for sample in positives[:5000]:\n",
    "    predictions.append(forward_pass(sample))\n",
    "print(\"--- %s seconds ---\" % (time.time() - start_time))"
   ]
  },
  {
   "cell_type": "code",
   "execution_count": 46,
   "metadata": {},
   "outputs": [
    {
     "name": "stdout",
     "output_type": "stream",
     "text": [
      "Total Classification Error: 0.0292\n"
     ]
    }
   ],
   "source": [
    "count = 0\n",
    "for i, prediction in enumerate(predictions):\n",
    "    if prediction != pos_label[i]:\n",
    "        count += 1\n",
    "\n",
    "print(\"Total Classification Error: \" + str(float(count) / float(len(predictions))))"
   ]
  },
  {
   "cell_type": "code",
   "execution_count": 60,
   "metadata": {},
   "outputs": [],
   "source": [
    "def error(class_):\n",
    "    err_count = 0\n",
    "    count = 0\n",
    "    for i, prediction in enumerate(predictions):\n",
    "        if pos_label[i] == class_:\n",
    "            count += 1\n",
    "            if prediction != pos_label[i]:\n",
    "                err_count += 1\n",
    "    return float(err_count) / float(count)"
   ]
  },
  {
   "cell_type": "code",
   "execution_count": 61,
   "metadata": {},
   "outputs": [
    {
     "name": "stdout",
     "output_type": "stream",
     "text": [
      "Classification Error For Class 2: 0.04787\n",
      "Classification Error For Class 1: 0.11881\n",
      "Classification Error For Class 13: 0.00350\n",
      "Classification Error For Class 12: 0.00943\n",
      "Classification Error For Class 38: 0.00318\n",
      "Classification Error For Class 10: 0.00758\n",
      "Classification Error For Class 4: 0.02087\n",
      "Classification Error For Class 5: 0.03650\n",
      "Classification Error For Class 25: 0.00000\n",
      "Classification Error For Class 9: 0.02448\n"
     ]
    }
   ],
   "source": [
    "for class_ in topten:\n",
    "    print(\"Classification Error For Class \" + str(class_) + \": \" + \"{0:.5f}\".format(error(class_)))"
   ]
  },
  {
   "cell_type": "code",
   "execution_count": null,
   "metadata": {},
   "outputs": [],
   "source": []
  }
 ],
 "metadata": {
  "kernelspec": {
   "display_name": "Python 2",
   "language": "python",
   "name": "python2"
  },
  "language_info": {
   "codemirror_mode": {
    "name": "ipython",
    "version": 2
   },
   "file_extension": ".py",
   "mimetype": "text/x-python",
   "name": "python",
   "nbconvert_exporter": "python",
   "pygments_lexer": "ipython2",
   "version": "2.7.10"
  }
 },
 "nbformat": 4,
 "nbformat_minor": 2
}
