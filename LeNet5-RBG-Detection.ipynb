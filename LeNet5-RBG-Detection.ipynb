{
 "cells": [
  {
   "cell_type": "markdown",
   "metadata": {
    "colab_type": "text",
    "id": "MJejm-ZRMB0x"
   },
   "source": [
    "### Roughly patterned after LeNet-5\n",
    "max instead of average pooling"
   ]
  },
  {
   "cell_type": "code",
   "execution_count": 2,
   "metadata": {
    "colab": {
     "autoexec": {
      "startup": false,
      "wait_interval": 0
     }
    },
    "colab_type": "code",
    "id": "4rPoZrLgMB0y"
   },
   "outputs": [],
   "source": [
    "import scipy.signal\n",
    "import numpy as np\n",
    "import matplotlib.pyplot as plt\n",
    "from sklearn.datasets import fetch_mldata\n",
    "import time\n",
    "from IPython import display\n",
    "import pandas as pd"
   ]
  },
  {
   "cell_type": "code",
   "execution_count": 3,
   "metadata": {
    "colab": {
     "autoexec": {
      "startup": false,
      "wait_interval": 0
     }
    },
    "colab_type": "code",
    "id": "2YIzSTkMMB02"
   },
   "outputs": [],
   "source": [
    "# grayscale and inline plotting\n",
    "%matplotlib inline\n",
    "plt.rcParams['image.cmap'] = 'gray'"
   ]
  },
  {
   "cell_type": "code",
   "execution_count": 4,
   "metadata": {
    "colab": {
     "autoexec": {
      "startup": false,
      "wait_interval": 0
     }
    },
    "colab_type": "code",
    "id": "8SoPsyaNMB04"
   },
   "outputs": [],
   "source": [
    "# using scipy's 2d convolution function\n",
    "conv2 = scipy.signal.convolve2d # modes include \"full\", \"valid\", and \"same\""
   ]
  },
  {
   "cell_type": "code",
   "execution_count": 17,
   "metadata": {
    "colab": {
     "autoexec": {
      "startup": false,
      "wait_interval": 0
     }
    },
    "colab_type": "code",
    "id": "FCkbK86VMB07"
   },
   "outputs": [],
   "source": [
    "# visualization functions\n",
    "\n",
    "def plot_image(image):\n",
    "    nr, nc = image.shape \n",
    "    extent = [-0.5, nc-0.5, nr-0.5, -0.5] \n",
    "    plt.imshow(image, extent=extent, origin='upper', interpolation='nearest')\n",
    "    \n",
    "def visualize(iter, errsq, errcl, x7, x6, x5, x4, x0, w1):\n",
    "\n",
    "    errsq = np.divide(\n",
    "        np.cumsum(errsq[: iter + 1]),\n",
    "        range(1, iter + 2)\n",
    "    )\n",
    "    \n",
    "    errcl = np.divide(\n",
    "        np.cumsum(errcl[: iter + 1]),\n",
    "        range(1, iter + 2)\n",
    "    )\n",
    "    \n",
    "    display.clear_output(wait=True)\n",
    "\n",
    "    plt.subplot(4,3,1)\n",
    "    plt.plot(errsq)\n",
    "    plt.ylim(0,1)\n",
    "    plt.title(\"average squared error\")\n",
    "    \n",
    "    plt.subplot(4,3,2)\n",
    "    plt.plot(errcl)\n",
    "    plt.ylim(0,1)\n",
    "    plt.title(\"average classification error\")\n",
    "    \n",
    "    plt.subplot(4,3,3)\n",
    "    plt.bar(range(len(x7)),x7)\n",
    "    plt.title(\"class confidences\")\n",
    "    \n",
    "    plt.subplot(4,3,4)\n",
    "    plt.hist(x6)\n",
    "    plt.title(\"x5 activations\")\n",
    "    \n",
    "    plt.subplot(4,3,5)\n",
    "    plt.hist(x5)\n",
    "    plt.title(\"x4 activations\")\n",
    "    \n",
    "    plt.subplot(4,3,6)\n",
    "    plot_image(x0[0])\n",
    "    plt.title(\"input image\")\n",
    "    \n",
    "#     for i in range(w1.shape[0]):\n",
    "#         for j in range(w1.shape[1]):\n",
    "#             if j == 0:\n",
    "#                 plt.subplot(4,3,7+i)\n",
    "#                 plot_image(w1[i,j])\n",
    "#                 plt.title(\"w1 kernel channel \" + str(i))\n",
    "\n",
    "    plt.subplots_adjust(wspace=0.5)\n",
    "    plt.gcf().set_size_inches(18.5, 10.5)\n",
    "    display.display(plt.gcf())"
   ]
  },
  {
   "cell_type": "code",
   "execution_count": 6,
   "metadata": {
    "colab": {
     "autoexec": {
      "startup": false,
      "wait_interval": 0
     }
    },
    "colab_type": "code",
    "id": "LvrdCW4pMB09"
   },
   "outputs": [],
   "source": [
    "def maxpool(images):\n",
    "    # 2x2 max pooling for set of images\n",
    "    # returns MAXIMA, WINNERS\n",
    "    # MAXIMA 2x smaller image, maximum of each 2x2 patch\n",
    "    # WINNERS 2x smaller image, argmax (1..4) of each 2x2 patch\n",
    "\n",
    "    [k, m, n] = images.shape  # mxn images, k of them\n",
    "    # reshape to k x 2 x m/2 x 2 x n/2\n",
    "    im_re = np.reshape(images, (k, m/2, 2, n/2, 2))\n",
    "    maxima = np.amax(np.amax(im_re, 4), 2)\n",
    "    \n",
    "    # obtain \"flat\" indices for each element\n",
    "    inds = np.reshape(np.array(range(im_re.size)), im_re.shape)\n",
    "    \n",
    "    # run two-step argmax to determine winning indices\n",
    "    curr_inds = np.argmax(im_re, 4)\n",
    "    dim0, dim1, dim2, dim3 = np.indices(curr_inds.shape)\n",
    "    inds = inds[dim0, dim1, dim2, dim3, curr_inds]\n",
    "    im_re = np.amax(im_re, 4)\n",
    "    curr_inds = np.argmax(im_re, 2)\n",
    "    dim0, dim1, dim3 = np.indices(curr_inds.shape)\n",
    "    winners = inds[dim0, dim1, curr_inds, dim3]\n",
    "    return maxima, winners\n",
    "\n",
    "def maxpoolback(delta_out, winners):\n",
    "    # backprop through 2x2 max pooling\n",
    "    #\n",
    "    # DELTA_IN image, deltas\n",
    "    # DELTA_OUT 2x smaller image, deltas\n",
    "    # WINNERS 2x smaller image, argmax (1..4) of each 2x2 patch\n",
    "\n",
    "    [k, m, n] = delta_out.shape;  # mxn images, k of them\n",
    "    delta_in = np.zeros((k,2*m,2*n))\n",
    "\n",
    "    delta_in.flat[winners] = delta_out\n",
    "    return delta_in"
   ]
  },
  {
   "cell_type": "code",
   "execution_count": 18,
   "metadata": {},
   "outputs": [
    {
     "name": "stdout",
     "output_type": "stream",
     "text": [
      "(35765, 3, 40, 40)\n",
      "(35765,)\n"
     ]
    }
   ],
   "source": [
    "#Data from Core\n",
    "\n",
    "#note already 40x40 resized, min-max normalized, shape converted, and shuffled! \n",
    "#The Core Loves You and Gives you ready-to-feed data!\n",
    "\n",
    "loaded = np.load('/tmp/dl_detection.npz')\n",
    "total=loaded['total']\n",
    "labels=loaded['labels']\n",
    "print(total.shape)\n",
    "print(labels.shape)"
   ]
  },
  {
   "cell_type": "code",
   "execution_count": 19,
   "metadata": {},
   "outputs": [],
   "source": [
    "train = total[:25000]\n",
    "trainlabels = labels[:25000]"
   ]
  },
  {
   "cell_type": "code",
   "execution_count": 20,
   "metadata": {
    "colab": {
     "autoexec": {
      "startup": false,
      "wait_interval": 0
     }
    },
    "colab_type": "code",
    "id": "EzJHjxSVMB1H"
   },
   "outputs": [],
   "source": [
    "# training and architectural details\n",
    "\n",
    "niter = train.shape[0];  # number of training examples\n",
    "nepoch = 1;  # number of epochs through training set\n",
    "\n",
    "def f(x): # hyperbolic tangent activation function\n",
    "    return np.tanh(x)\n",
    "def df(y): # derivative of f composed with inverse of f\n",
    "    return 1 - np.multiply(y, y)\n",
    "\n",
    "# def f(x):\n",
    "#     return np.maximum(x, 0)\n",
    "# def df(y):\n",
    "#     return np.heaviside(y,0)\n",
    "\n",
    "epsinit = 0.1;   # scale of weight initialization\n",
    "eta = 0.01;  # learning rate parameter\n",
    "\n",
    "# initialize two convolution layers \n",
    "n0 = 3; n1 = 10; n2 = 20; n3 = 20;   # numbers of feature maps (rbg input has 3 \"feature maps\" to start)\n",
    "w1 = epsinit*np.random.randn(n1,n0,5,5)  # n1 x n0 kernels\n",
    "w2 = epsinit*np.random.randn(n2,n1,3,3)  # n2 x n1 kernels\n",
    "w3 = epsinit*np.random.randn(n3,n2,3,3)  # n3 x n2 kernels\n",
    "\n",
    "x0 = np.zeros((n0, 40, 40))     # input image\n",
    "x1 = np.zeros((n1, 36, 36))   # valid convolution by w1 reduces image size by 2\n",
    "x1p = np.zeros((n1, 18, 18))  # pooling reduces image size by 2x\n",
    "x2 = np.zeros((n2, 16, 16))   # convolution by w2 reduces image size by 3\n",
    "x2p = np.zeros((n2, 8, 8))    # pooling reduces image size by 2x\n",
    "x3 = np.zeros((n3, 6, 6))     # convolution by w3 reduces image size by 2\n",
    "x3p = np.zeros((n3, 3, 3))    # pooling reduces image size by 2x\n",
    "\n",
    "b1 = epsinit*np.random.randn(n1,1) #n1 biases for each feature map\n",
    "b1p = epsinit*np.random.randn(n1,1) #n1 biases for each pooled feature map\n",
    "b2 = epsinit*np.random.randn(n2,1) #n2 biases for each feature map\n",
    "b2p = epsinit*np.random.randn(n2,1) #n2 biases for each pooled feature map\n",
    "b3 = epsinit*np.random.randn(n3,1) #n3 biases for each feature map\n",
    "b3p = epsinit*np.random.randn(n3,1) #n3 biases for each pooled feature map\n",
    "\n",
    "# initialize four fully connected layers\n",
    "n4 = 160; n5 = 80; n6 = 10; n7 = 2;   # number of neurons per layer\n",
    "W4 = epsinit*np.random.randn(n4,x3p.size)   # 2D organization of x2p is discarded\n",
    "W5 = epsinit*np.random.randn(n5,n4)\n",
    "W6 = epsinit*np.random.randn(n6,n5)\n",
    "W7 = epsinit*np.random.randn(n7,n6)\n",
    "\n",
    "b4 = epsinit*np.random.randn(n4) #n3 biases for each layer 3 neuron\n",
    "b5 = epsinit*np.random.randn(n5) #n4 biases for each layer 4 neuron\n",
    "b6 = epsinit*np.random.randn(n6) #n5 biases for each layer 5 neuron\n",
    "b7 = epsinit*np.random.randn(n7) #n6 biases for each layer 6 neuron\n",
    "\n",
    "#map sign class to a position in output array\n",
    "# topten = [2, 1, 13, 12, 38, 10, 4, 5, 25, 9]\n",
    "# index_map = {}\n",
    "# for i, sign in enumerate(topten):\n",
    "#     index_map[sign] = i"
   ]
  },
  {
   "cell_type": "code",
   "execution_count": 25,
   "metadata": {},
   "outputs": [],
   "source": [
    "np.savez('/tmp/lenet5_detection', epsinit=epsinit, eta=eta, n0=n0, n1=n1, n2=n2, n3=n3, w1=w1, w2=w2, w3=w3, b1=b1,\n",
    "        b1p=b1p, b2=b2, b2p=b2p, b3=b3, b3p=b3p, n4=n4, n5=n5, n6=n6, n7=n7, W4=W4, W5=W5, W6=W6, W7=W7, b4=b4, b5=b5, \n",
    "         b6=b6, b7=b7, x0=x0, x1=x1, x1p=x1p, x2=x2, x2p=x2p, x3=x3, x3p=x3p, x4=x4, x5=x5, x6=x6, x7=x7, errcl=errcl, iter=[iter])"
   ]
  },
  {
   "cell_type": "code",
   "execution_count": 155,
   "metadata": {},
   "outputs": [
    {
     "data": {
      "text/plain": [
       "(10, 3, 5, 5)"
      ]
     },
     "execution_count": 155,
     "metadata": {},
     "output_type": "execute_result"
    }
   ],
   "source": [
    "type(w1)\n",
    "w1.shape"
   ]
  },
  {
   "cell_type": "code",
   "execution_count": 157,
   "metadata": {},
   "outputs": [],
   "source": [
    "# store = pd.HDFStore('store.h5')\n",
    "# store['w1'] = pd.DataFrame(w1)\n",
    "# store['w2'] = pd.Series(w2)\n",
    "# store['w3'] = pd.Series(w3)\n",
    "# store['b1'] = pd.Series(b1)\n",
    "# store['b1p'] = pd.Series(b1p)\n",
    "# store['b2'] = pd.Series(b2)\n",
    "# store['b2p'] = pd.Series(b2p)\n",
    "# store['b3'] = pd.Series(b3)\n",
    "# store['b3p'] = pd.Series(b3p)\n",
    "# store['W4'] = pd.Series(W4)\n",
    "# store['W5'] = pd.Series(W5)\n",
    "# store['W6'] = pd.Series(W6)\n",
    "# store['b4'] = pd.Series(b4)\n",
    "# store['b5'] = pd.Series(b5)\n",
    "# store['b6'] = pd.Series(b6)\n",
    "# recall_w1 = np.ndarray(store[w1])\n",
    "# recall_w1.shape"
   ]
  },
  {
   "cell_type": "code",
   "execution_count": 24,
   "metadata": {},
   "outputs": [
    {
     "data": {
      "text/plain": [
       "12616"
      ]
     },
     "execution_count": 24,
     "metadata": {},
     "output_type": "execute_result"
    }
   ],
   "source": [
    "iter"
   ]
  },
  {
   "cell_type": "code",
   "execution_count": 21,
   "metadata": {
    "colab": {
     "autoexec": {
      "startup": false,
      "wait_interval": 0
     },
     "base_uri": "https://localhost:8080/",
     "height": 1589,
     "output_extras": [
      {
       "item_id": 1
      },
      {
       "item_id": 2
      },
      {
       "item_id": 3
      },
      {
       "item_id": 4
      }
     ]
    },
    "colab_type": "code",
    "executionInfo": {
     "elapsed": 2044,
     "status": "error",
     "timestamp": 1520657735288,
     "user": {
      "displayName": "Jelani Denis",
      "photoUrl": "https://lh3.googleusercontent.com/a/default-user=s128",
      "userId": "105553845271965223867"
     },
     "user_tz": 300
    },
    "id": "XvEkHlUmMB1J",
    "outputId": "4a0f9052-9547-43ae-a757-da44d666e6cc"
   },
   "outputs": [
    {
     "data": {
      "image/png": "[encoded data removed]",
      "text/plain": [
       "<matplotlib.figure.Figure at 0x115887810>"
      ]
     },
     "metadata": {},
     "output_type": "display_data"
    },
    {
     "name": "stdout",
     "output_type": "stream",
     "text": [
      "12.9772310257 seconds per 100 iterations\n"
     ]
    },
    {
     "ename": "KeyboardInterrupt",
     "evalue": "",
     "output_type": "error",
     "traceback": [
      "\u001b[0;31m------------------------------------------------------------------\u001b[0m",
      "\u001b[0;31mKeyboardInterrupt\u001b[0m                Traceback (most recent call last)",
      "\u001b[0;32m<ipython-input-21-3117369e6a4e>\u001b[0m in \u001b[0;36m<module>\u001b[0;34m()\u001b[0m\n\u001b[1;32m    157\u001b[0m         \u001b[0;32mfor\u001b[0m \u001b[0mi\u001b[0m \u001b[0;32min\u001b[0m \u001b[0mrange\u001b[0m\u001b[0;34m(\u001b[0m\u001b[0mn1\u001b[0m\u001b[0;34m)\u001b[0m\u001b[0;34m:\u001b[0m\u001b[0;34m\u001b[0m\u001b[0m\n\u001b[1;32m    158\u001b[0m             \u001b[0;32mfor\u001b[0m \u001b[0mj\u001b[0m \u001b[0;32min\u001b[0m \u001b[0mrange\u001b[0m\u001b[0;34m(\u001b[0m\u001b[0mn0\u001b[0m\u001b[0;34m)\u001b[0m\u001b[0;34m:\u001b[0m\u001b[0;34m\u001b[0m\u001b[0m\n\u001b[0;32m--> 159\u001b[0;31m                 \u001b[0mw1\u001b[0m\u001b[0;34m[\u001b[0m\u001b[0mi\u001b[0m\u001b[0;34m,\u001b[0m\u001b[0mj\u001b[0m\u001b[0;34m,\u001b[0m\u001b[0;34m:\u001b[0m\u001b[0;34m,\u001b[0m\u001b[0;34m:\u001b[0m\u001b[0;34m]\u001b[0m \u001b[0;34m+=\u001b[0m \u001b[0meta\u001b[0m\u001b[0;34m*\u001b[0m\u001b[0mconv2\u001b[0m\u001b[0;34m(\u001b[0m\u001b[0mx0\u001b[0m\u001b[0;34m[\u001b[0m\u001b[0mj\u001b[0m\u001b[0;34m]\u001b[0m\u001b[0;34m[\u001b[0m\u001b[0mnp\u001b[0m\u001b[0;34m.\u001b[0m\u001b[0mix_\u001b[0m\u001b[0;34m(\u001b[0m\u001b[0mrange\u001b[0m\u001b[0;34m(\u001b[0m\u001b[0mx0\u001b[0m\u001b[0;34m.\u001b[0m\u001b[0mshape\u001b[0m\u001b[0;34m[\u001b[0m\u001b[0;36m1\u001b[0m\u001b[0;34m]\u001b[0m\u001b[0;34m-\u001b[0m\u001b[0;36m1\u001b[0m\u001b[0;34m,\u001b[0m\u001b[0;34m-\u001b[0m\u001b[0;36m1\u001b[0m\u001b[0;34m,\u001b[0m\u001b[0;34m-\u001b[0m\u001b[0;36m1\u001b[0m\u001b[0;34m)\u001b[0m\u001b[0;34m,\u001b[0m\u001b[0mrange\u001b[0m\u001b[0;34m(\u001b[0m\u001b[0mx0\u001b[0m\u001b[0;34m.\u001b[0m\u001b[0mshape\u001b[0m\u001b[0;34m[\u001b[0m\u001b[0;36m2\u001b[0m\u001b[0;34m]\u001b[0m\u001b[0;34m-\u001b[0m\u001b[0;36m1\u001b[0m\u001b[0;34m,\u001b[0m\u001b[0;34m-\u001b[0m\u001b[0;36m1\u001b[0m\u001b[0;34m,\u001b[0m\u001b[0;34m-\u001b[0m\u001b[0;36m1\u001b[0m\u001b[0;34m)\u001b[0m\u001b[0;34m)\u001b[0m\u001b[0;34m]\u001b[0m\u001b[0;34m,\u001b[0m \u001b[0mdelta1\u001b[0m\u001b[0;34m[\u001b[0m\u001b[0mi\u001b[0m\u001b[0;34m,\u001b[0m\u001b[0;34m:\u001b[0m\u001b[0;34m,\u001b[0m\u001b[0;34m:\u001b[0m\u001b[0;34m]\u001b[0m\u001b[0;34m,\u001b[0m \u001b[0;34m\"valid\"\u001b[0m\u001b[0;34m)\u001b[0m\u001b[0;34m\u001b[0m\u001b[0m\n\u001b[0m\u001b[1;32m    160\u001b[0m \u001b[0;34m\u001b[0m\u001b[0m\n\u001b[1;32m    161\u001b[0m         \u001b[0;32mif\u001b[0m \u001b[0;34m(\u001b[0m\u001b[0miter\u001b[0m\u001b[0;34m+\u001b[0m\u001b[0;36m1\u001b[0m\u001b[0;34m)\u001b[0m \u001b[0;34m%\u001b[0m \u001b[0mdisp_freq\u001b[0m \u001b[0;34m==\u001b[0m \u001b[0;36m0\u001b[0m\u001b[0;34m:\u001b[0m\u001b[0;34m\u001b[0m\u001b[0m\n",
      "\u001b[0;31mKeyboardInterrupt\u001b[0m: "
     ]
    },
    {
     "data": {
      "image/png": "[encoded data removed]",
      "text/plain": [
       "<matplotlib.figure.Figure at 0x115887810>"
      ]
     },
     "metadata": {},
     "output_type": "display_data"
    }
   ],
   "source": [
    "# training\n",
    "\n",
    "tic = time.time()\n",
    "disp_freq = 100\n",
    "for iepoch in range(nepoch):\n",
    "    errsq = np.zeros(niter)  # never computed\n",
    "    errcl = np.zeros(niter)\n",
    "    for iter in xrange(niter):\n",
    "        # zero pad 28x28 image to make it 32x32\n",
    "        x0 = train[iter]\n",
    "\n",
    "        x1 = np.zeros(x1.shape)  # initialize to zero for accumulation\n",
    "        for i in range(n1):\n",
    "            for j in range(n0):\n",
    "                x1[i,:,:] += conv2(x0[j,:,:], w1[i,j,:,:], \"valid\")\n",
    "            \n",
    "        for i in range(n1):\n",
    "            x1[i,:,:] = x1[i,:,:] + b1[i]\n",
    "            \n",
    "        x1 = f(x1)\n",
    "        \n",
    "        #x1p, x1w = maxpool(x1)\n",
    "        \n",
    "        for i in range(n1):\n",
    "            x1p[i,:,:] = x1p[i,:,:] + b1p[i]\n",
    "            \n",
    "        x1p, x1w = maxpool(x1)\n",
    "  \n",
    "        x2 = np.zeros(x2.shape)  # initialize to zero for accumulation\n",
    "        for i in range(n2):\n",
    "            for j in range(n1):\n",
    "                x2[i,:,:] += conv2(x1p[j,:,:], w2[i,j,:,:], \"valid\")\n",
    "\n",
    "        for i in range(n2):\n",
    "            x2[i,:,:] = x2[i,:,:] + b2[i]\n",
    "          \n",
    "        x2 = f(x2)\n",
    "          \n",
    "        #x2p, x2w = maxpool(x2)\n",
    "        \n",
    "        for i in range(n2):\n",
    "            x2p[i,:,:] = x2p[i,:,:] + b2p[i]\n",
    "        \n",
    "        x2p, x2w = maxpool(x2)\n",
    "        \n",
    "        x3 = np.zeros(x3.shape)  # initialize to zero for accumulation\n",
    "        for i in range(n3):\n",
    "            for j in range(n2):\n",
    "                x3[i,:,:] += conv2(x2p[j,:,:], w3[i,j,:,:], \"valid\")\n",
    "\n",
    "        for i in range(n3):\n",
    "            x3[i,:,:] = x3[i,:,:] + b3[i]\n",
    "          \n",
    "        x3 = f(x3)\n",
    "          \n",
    "        x3p, x3w = maxpool(x3)\n",
    "        \n",
    "        for i in range(n3):\n",
    "            x3p[i,:,:] = x3p[i,:,:] + b3p[i]\n",
    "\n",
    "        # discard 2D organization of x3p by reshaping to x3p(:)\n",
    "        x4 = f(np.dot(W4,np.reshape(x3p,-1)) + b4)\n",
    "        x5 = f(np.dot(W5,x4) + b5)\n",
    "        x6 = f(np.dot(W6,x5) + b6)\n",
    "        x7 = f(np.dot(W7,x6) + b7)\n",
    "        prediction = np.argmax(x7);\n",
    "        errcl[iter] = prediction != trainlabels[iter];\n",
    "        \n",
    "        # backward pass\n",
    "        d = -1*np.ones(n7)\n",
    "        #d = np.zeros(n7)\n",
    "        d[trainlabels[iter]] = 1;  # target output vector\n",
    "        \n",
    "        ###\"\n",
    "        err = d - x7; \n",
    "        delta7 = np.multiply(err,df(x7));\n",
    "        delta6 = np.multiply(np.dot(W7.T,delta7),df(x6))\n",
    "        delta5 = np.multiply(np.dot(W6.T,delta6),df(x5))\n",
    "        delta4 = np.multiply(np.dot(W5.T,delta5),df(x4))\n",
    "        delta3p = np.dot(W4.T,delta4)\n",
    "        delta3p = np.reshape(delta3p, x3p.shape)  # restore 2D organization\n",
    "        delta3 = np.multiply(maxpoolback(delta3p, x3w),df(x3))\n",
    "        delta2p = np.zeros(x2p.shape)\n",
    "        for j in range(n2):\n",
    "            for i in range(n3):\n",
    "                delta2p[j,:,:] += conv2(delta3[i,:,:], w3[i,j][np.ix_(range(w3.shape[2]-1,-1,-1),range(w3.shape[3]-1,-1,-1))], \"full\")\n",
    "        delta2 = np.multiply(maxpoolback(delta2p, x2w),df(x2))       \n",
    "        delta1p = np.zeros(x1p.shape)\n",
    "        for j in range(n1):\n",
    "            for i in range(n2):\n",
    "                delta1p[j,:,:] += conv2(delta2[i,:,:], w2[i,j][np.ix_(range(w2.shape[2]-1,-1,-1),range(w2.shape[3]-1,-1,-1))], \"full\")\n",
    "        delta1 = np.multiply(maxpoolback(delta1p, x1w),df(x1)) \n",
    "        \n",
    "        \n",
    "        ###LEFT HERE\n",
    "\n",
    "        # weight updates\n",
    "        W7 += eta*np.dot(np.atleast_2d(delta7).T,np.atleast_2d(x6))\n",
    "        W6 += eta*np.dot(np.atleast_2d(delta6).T,np.atleast_2d(x5))\n",
    "        W5 += eta*np.dot(np.atleast_2d(delta5).T,np.atleast_2d(x4))\n",
    "        W4 += eta*np.dot(np.atleast_2d(delta4).T,np.reshape(x3p,(1,x3p.size)))\n",
    "        #W3 += eta*np.dot(np.atleast_2d(delta3).T,np.reshape(x2p,(1,x2p.size)))\n",
    "        \n",
    "        #bias updates - same as usual MLP backprop\n",
    "        b7 += eta*delta7\n",
    "        b6 += eta*delta6\n",
    "        b5 += eta*delta5\n",
    "        b4 += eta*delta4\n",
    "        #b3 += eta*delta3\n",
    "        \n",
    "        #conv bias updates\n",
    "        #sum over all f_map derivatives for any bias, since they are shared parameters\n",
    "        #print(delta2p.shape)\n",
    "        \n",
    "        for i in range(len(x3p)):\n",
    "            b3p[i] += eta * np.sum(delta3p[i])\n",
    "          \n",
    "        for i in range(len(x3)):\n",
    "            b3[i] += eta * np.sum(delta3[i])\n",
    "            \n",
    "        #NEXT LAYER\n",
    "            \n",
    "        for i in range(len(x2p)):\n",
    "            b2p[i] += eta * np.sum(delta2p[i])\n",
    "          \n",
    "        #b2p_update = np.array([np.sum(f_map) for f_map in delta2p])\n",
    "        #b2p += eta * b2p_update\n",
    "        \n",
    "        for i in range(len(x2)):\n",
    "            b2[i] += eta * np.sum(delta2[i])\n",
    "          \n",
    "        #b2_update = np.array([np.sum(f_map) for f_map in delta2])\n",
    "        #b2 += eta * b2_update\n",
    "        \n",
    "        for i in range(len(x1p)):\n",
    "            b1p[i] += eta * np.sum(delta1p[i])\n",
    "          \n",
    "        #b1p_update = np.array([np.sum(f_map) for f_map in delta1p])\n",
    "        #b1p += eta * b1p_update\n",
    "        \n",
    "        for i in range(len(x1)):\n",
    "            b1[i] += eta * np.sum(delta1[i])\n",
    "          \n",
    "        #b1_update = np.array([np.sum(f_map) for f_map in delta1])\n",
    "        #b1 += eta * b1_update\n",
    "        \n",
    "        #update conv kernels\n",
    "        for i in range(n3):\n",
    "            for j in range(n2):\n",
    "                w3[i,j,:,:] += eta*conv2(x2p[j][np.ix_(range(x2p.shape[1]-1,-1,-1),range(x2p.shape[2]-1,-1,-1))], delta3[i,:,:], \"valid\")\n",
    "        \n",
    "        for i in range(n2):\n",
    "            for j in range(n1):\n",
    "                w2[i,j,:,:] += eta*conv2(x1p[j][np.ix_(range(x1p.shape[1]-1,-1,-1),range(x1p.shape[2]-1,-1,-1))], delta2[i,:,:], \"valid\")\n",
    "        \n",
    "        \n",
    "        for i in range(n1):\n",
    "            for j in range(n0):\n",
    "                w1[i,j,:,:] += eta*conv2(x0[j][np.ix_(range(x0.shape[1]-1,-1,-1),range(x0.shape[2]-1,-1,-1))], delta1[i,:,:], \"valid\")\n",
    "        \n",
    "        if (iter+1) % disp_freq == 0:\n",
    "            plt.gcf().clear()\n",
    "            visualize(iter, errsq, errcl, x7, x6, x5, x4, x0, w1)\n",
    "            print str(time.time() - tic) + \" seconds per \" + str(disp_freq) + \" iterations\"\n",
    "            tic = time.time()\n",
    "            time.sleep(0.01)"
   ]
  },
  {
   "cell_type": "code",
   "execution_count": null,
   "metadata": {},
   "outputs": [],
   "source": []
  }
 ],
 "metadata": {
  "colab": {
   "collapsed_sections": [],
   "default_view": {},
   "name": "Copy of LeNet.ipynb",
   "provenance": [
    {
     "file_id": "1zsezKIGPy6A_b2PMyGuWNg0xvcY3PObP",
     "timestamp": 1520567745349
    }
   ],
   "version": "0.3.2",
   "views": {}
  },
  "kernelspec": {
   "display_name": "Python 2",
   "language": "python",
   "name": "python2"
  },
  "language_info": {
   "codemirror_mode": {
    "name": "ipython",
    "version": 2
   },
   "file_extension": ".py",
   "mimetype": "text/x-python",
   "name": "python",
   "nbconvert_exporter": "python",
   "pygments_lexer": "ipython2",
   "version": "2.7.10"
  }
 },
 "nbformat": 4,
 "nbformat_minor": 1
}
