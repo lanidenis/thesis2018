{
 "cells": [
  {
   "cell_type": "code",
   "execution_count": 42,
   "metadata": {},
   "outputs": [],
   "source": [
    "# from mpl_toolkits.mplot3d import Axes3D\n",
    "# import matplotlib.pyplot as plt\n",
    "# import csv\n",
    "# import numpy as np\n",
    "# import os \n",
    "\n",
    "# from sklearn.feature_extraction.text import CountVectorizer\n",
    "# import nltk, re\n",
    "# from nltk.corpus import stopwords\n",
    "# from sklearn.naive_bayes import BernoulliNB\n",
    "# from sklearn import metrics\n",
    "# from sklearn.naive_bayes import MultinomialNB\n",
    "# from sklearn.model_selection import GridSearchCV\n",
    "# from sklearn import svm\n",
    "# from sklearn.metrics import make_scorer\n",
    "# from sklearn.metrics import accuracy_score\n",
    "# from sklearn.feature_extraction.text import TfidfVectorizer\n",
    "# from sklearn.ensemble import RandomForestClassifier\n",
    "# from sklearn.tree import DecisionTreeClassifier\n",
    "# from sklearn.decomposition import TruncatedSVD\n",
    "# from sklearn.feature_selection import SelectKBest\n",
    "# from sklearn.feature_selection import chi2\n",
    "# from sklearn.neighbors import KNeighborsClassifier\n",
    "# from sklearn import linear_model \n"
   ]
  },
  {
   "cell_type": "code",
   "execution_count": 105,
   "metadata": {},
   "outputs": [],
   "source": [
    "# Adapted from Code Sample Snippet Provided By Institut für Neuroinformatik\n",
    "# at http://benchmark.ini.rub.de/?section=gtsrb&subsection=dataset\n",
    "\n",
    "def readTrafficSignsSimple(rootpath, feature_type):    \n",
    "    vectors = [] # feature vectors\n",
    "    labels = [] # corresponding labels\n",
    "    # loop over all 43 classes\n",
    "    for c in range(0,43):\n",
    "        if c in topten:\n",
    "            print(c)\n",
    "            subfolder = rootpath + feature_type + format(c, '05d') # subdirectory for class\n",
    "            path, dirs, files = os.walk(subfolder).__next__()\n",
    "            for file in files:\n",
    "                vectors.append(np.genfromtxt(subfolder + '/' + file))\n",
    "                labels.append(c) # the 8th column is the label\n",
    "    return vectors, labels\n",
    "\n",
    "def countSamples(rootpath):\n",
    "    counts = []\n",
    "    counter = 0\n",
    "    # loop over all 43 classes\n",
    "    for c in range(0,43):\n",
    "        prefix = rootpath + '/Images/' + format(c, '05d') + '/' # subdirectory for class\n",
    "        gtFile = open(prefix + 'GT-'+ format(c, '05d') + '.csv') # annotations file\n",
    "        gtReader = csv.reader(gtFile, delimiter=';') # csv parser for annotations file\n",
    "        gtReader.__next__() # skip header\n",
    "        # loop over all images in current annotations file\n",
    "        for row in gtReader:\n",
    "            counter += 1\n",
    "        counts.append(counter)\n",
    "        counter = 0\n",
    "        gtFile.close()\n",
    "    return counts\n",
    "\n"
   ]
  },
  {
   "cell_type": "code",
   "execution_count": null,
   "metadata": {},
   "outputs": [],
   "source": [
    "print(topten)"
   ]
  },
  {
   "cell_type": "code",
   "execution_count": 65,
   "metadata": {},
   "outputs": [
    {
     "data": {
      "image/png": "[encoded data removed]",
      "text/plain": [
       "<Figure size 432x288 with 1 Axes>"
      ]
     },
     "metadata": {},
     "output_type": "display_data"
    }
   ],
   "source": [
    "x = np.arange(0,100,1)\n",
    "y = [10]*100\n",
    "plt.plot(x,y,'ro')\n",
    "plt.axis([0,100,0,100])\n",
    "plt.show()"
   ]
  },
  {
   "cell_type": "code",
   "execution_count": 69,
   "metadata": {},
   "outputs": [
    {
     "data": {
      "image/png": "[encoded data removed]",
      "text/plain": [
       "<Figure size 432x288 with 2 Axes>"
      ]
     },
     "metadata": {},
     "output_type": "display_data"
    }
   ],
   "source": [
    "#test coordinate representation for pyplots 2D hist \n",
    "plt.hist2d(x, y, bins=10, range=[[0,100],[0,100]], cmap='Blues')\n",
    "cb = plt.colorbar()\n",
    "cb.set_label('counts in bin')"
   ]
  },
  {
   "cell_type": "code",
   "execution_count": 87,
   "metadata": {},
   "outputs": [
    {
     "name": "stdout",
     "output_type": "stream",
     "text": [
      "[[ 0. 10.  0.  0.  0.  0.  0.  0.  0.  0.]\n",
      " [ 0. 10.  0.  0.  0.  0.  0.  0.  0.  0.]\n",
      " [ 0. 10.  0.  0.  0.  0.  0.  0.  0.  0.]\n",
      " [ 0. 10.  0.  0.  0.  0.  0.  0.  0.  0.]\n",
      " [ 0. 10.  0.  0.  0.  0.  0.  0.  0.  0.]\n",
      " [ 0. 10.  0.  0.  0.  0.  0.  0.  0.  0.]\n",
      " [ 0. 10.  0.  0.  0.  0.  0.  0.  0.  0.]\n",
      " [ 0. 10.  0.  0.  0.  0.  0.  0.  0.  0.]\n",
      " [ 0. 10.  0.  0.  0.  0.  0.  0.  0.  0.]\n",
      " [ 0. 10.  0.  0.  0.  0.  0.  0.  0.  0.]]\n"
     ]
    }
   ],
   "source": [
    "#extract the counts only, this is to help us observe that x-values correspond to rows in counts and y to columns\n",
    "counts, xedges, yedges = np.histogram2d(x, y, bins=10, range=[[0,100],[0,100]])\n",
    "print(counts)"
   ]
  },
  {
   "cell_type": "code",
   "execution_count": 88,
   "metadata": {},
   "outputs": [
    {
     "name": "stdout",
     "output_type": "stream",
     "text": [
      "0.0\n",
      "0.1\n",
      "1.0\n"
     ]
    }
   ],
   "source": [
    "counts = counts / sum(sum(counts)) #convert to probabilities\n",
    "print(np.min(counts)) #should be >= 0\n",
    "print(np.max(counts)) #should be <= 1\n",
    "print(np.sum(counts)) #should be = 1"
   ]
  },
  {
   "cell_type": "code",
   "execution_count": 89,
   "metadata": {},
   "outputs": [],
   "source": [
    "#match appropriate center x,y coordinate with computed bin probabilities\n",
    "probs = []\n",
    "for i in range(0,len(counts)):\n",
    "    for j in range(0,len(counts[0])):\n",
    "        probs.append([((i+1)*10 - 5, (j+1)*10 - 5), counts[i,j]])"
   ]
  },
  {
   "cell_type": "code",
   "execution_count": 95,
   "metadata": {},
   "outputs": [],
   "source": [
    "# for i in np.arange(0,90,10):\n",
    "#     print(probs[i:i+10])"
   ]
  },
  {
   "cell_type": "code",
   "execution_count": null,
   "metadata": {},
   "outputs": [],
   "source": []
  },
  {
   "cell_type": "code",
   "execution_count": null,
   "metadata": {},
   "outputs": [],
   "source": []
  },
  {
   "cell_type": "code",
   "execution_count": 108,
   "metadata": {},
   "outputs": [
    {
     "name": "stdout",
     "output_type": "stream",
     "text": [
      "[ 2  1 13 12 38 10  4  5 25  9]\n",
      "[2250, 2220, 2160, 2100, 2070, 2010, 1980, 1860, 1500, 1470]\n"
     ]
    }
   ],
   "source": [
    "counts = countSamples('./GTSRB/Final_Training')\n",
    "topten = np.argsort(counts)[::-1][0:10]\n",
    "print(topten)\n",
    "print([counts[i] for i in topten])"
   ]
  },
  {
   "cell_type": "code",
   "execution_count": 25,
   "metadata": {},
   "outputs": [
    {
     "data": {
      "text/plain": [
       "39209"
      ]
     },
     "execution_count": 25,
     "metadata": {},
     "output_type": "execute_result"
    }
   ],
   "source": [
    "sum(counts)"
   ]
  },
  {
   "cell_type": "code",
   "execution_count": 22,
   "metadata": {},
   "outputs": [
    {
     "name": "stdout",
     "output_type": "stream",
     "text": [
      "1\n",
      "2\n",
      "4\n",
      "5\n",
      "9\n",
      "10\n",
      "12\n",
      "13\n",
      "25\n",
      "38\n"
     ]
    }
   ],
   "source": [
    "trainVectors, trainLabels = readTrafficSignsSimple('./GTSRB/Final_Training', '/HueHist/')"
   ]
  },
  {
   "cell_type": "code",
   "execution_count": 31,
   "metadata": {},
   "outputs": [],
   "source": [
    "#randomize vectors and labels\n",
    "indexes = [i for i in range(0,len(trainVectors))]\n",
    "np.random.shuffle(indexes)\n",
    "trainVectors = np.array(trainVectors) \n",
    "trainVectors = trainVectors[indexes]\n",
    "trainLabels = np.array(trainLabels)\n",
    "trainLabels = trainLabels[indexes]"
   ]
  },
  {
   "cell_type": "code",
   "execution_count": 32,
   "metadata": {},
   "outputs": [
    {
     "name": "stdout",
     "output_type": "stream",
     "text": [
      "19620\n",
      "19620\n",
      "[210, 2220, 2250, 1410, 1980, 1860, 420, 1440, 1410, 1470, 2010, 1320, 2100, 2160, 780, 630, 420, 1110, 1200, 210, 360, 330, 390, 510, 270, 1500, 600, 240, 540, 270, 450, 780, 240, 689, 420, 1200, 390, 210, 2070, 300, 360, 240, 240]\n",
      "[ 4 25  9  1]\n"
     ]
    }
   ],
   "source": [
    "print(len(trainVectors))\n",
    "print(len(trainLabels))\n",
    "print(counts)\n",
    "print(trainLabels[211:215]) # check randomization\n",
    "#39,209 training images in 43 classes"
   ]
  },
  {
   "cell_type": "code",
   "execution_count": 8,
   "metadata": {},
   "outputs": [
    {
     "name": "stdout",
     "output_type": "stream",
     "text": [
      "19620\n"
     ]
    }
   ],
   "source": [
    "print(sum(counts[i] for i in topten))"
   ]
  },
  {
   "cell_type": "code",
   "execution_count": 43,
   "metadata": {},
   "outputs": [
    {
     "name": "stdout",
     "output_type": "stream",
     "text": [
      "256\n"
     ]
    }
   ],
   "source": [
    "print(len(trainVectors[0]))"
   ]
  },
  {
   "cell_type": "code",
   "execution_count": 9,
   "metadata": {},
   "outputs": [
    {
     "name": "stdout",
     "output_type": "stream",
     "text": [
      "21239\n"
     ]
    }
   ],
   "source": [
    "summand = 0\n",
    "for i in counts:\n",
    "    if i > 500:\n",
    "        summand += (i - 500)\n",
    "print(summand)"
   ]
  },
  {
   "cell_type": "code",
   "execution_count": 33,
   "metadata": {},
   "outputs": [],
   "source": [
    "# Adapted from Code Sample Snippet Above Provided By Institut für Neuroinformatik\n",
    "\n",
    "def readTrafficSignsTest(rootpath, feature_type):\n",
    "    vectors = [] # feature vectors\n",
    "    labels = [] # corresponding labels\n",
    "    counter = 0\n",
    "    # loop over all 43 classes\n",
    "    prefix = rootpath + '/Images/'\n",
    "    gtFile = open(prefix + 'GT-final_test' + '.csv') # annotations file\n",
    "    gtReader = csv.reader(gtFile, delimiter=';') # csv parser for annotations file\n",
    "    gtReader.__next__() # skip header\n",
    "    # loop over all images in current annotations file\n",
    "    for row in gtReader:\n",
    "        if int(row[7]) in topten:\n",
    "            vectors.append(np.genfromtxt(rootpath + feature_type + row[0][:-4] + '.txt'))\n",
    "            labels.append(row[7]) # the 8th column is the label\n",
    "        #counter += 1\n",
    "        #if counter == 6000:\n",
    "        #    break\n",
    "    gtFile.close()\n",
    "    return vectors, labels\n",
    "\n",
    "def countSamplesTest(rootpath):\n",
    "    counts = [0]*43\n",
    "    counter = 0\n",
    "    prefix = rootpath + '/Images/'\n",
    "    gtFile = open(prefix + 'GT-final_test' + '.csv') # annotations file\n",
    "    gtReader = csv.reader(gtFile, delimiter=';') # csv parser for annotations file\n",
    "    gtReader.__next__() # skip header\n",
    "    # loop over all images in current annotations file\n",
    "    for row in gtReader:\n",
    "        counts[int(row[7])] += 1\n",
    "        counter += 1\n",
    "        if counter == 6000:\n",
    "            break\n",
    "    gtFile.close()\n",
    "    return counts\n"
   ]
  },
  {
   "cell_type": "code",
   "execution_count": 11,
   "metadata": {},
   "outputs": [],
   "source": [
    "#12,630 test images or the corresponding pre-calculated features in random order\n",
    "testVectors, testLabels = readTrafficSignsTest('./GTSRB/Final_Testing', '/HueHist/')\n",
    "#counts = countSamplesTest('./GTSRB/Final_Testing')\n",
    "#print(counts)"
   ]
  },
  {
   "cell_type": "code",
   "execution_count": 12,
   "metadata": {},
   "outputs": [
    {
     "name": "stdout",
     "output_type": "stream",
     "text": [
      "6480\n",
      "6480\n"
     ]
    }
   ],
   "source": [
    "print(len(testVectors))\n",
    "print(len(testLabels))\n",
    "#print(testVectors[0])"
   ]
  },
  {
   "cell_type": "code",
   "execution_count": 85,
   "metadata": {},
   "outputs": [
    {
     "name": "stdout",
     "output_type": "stream",
     "text": [
      "Accuracy: 0.4251543209876543\n",
      "F1: [0.39034853 0.50238908 0.79231863 0.28138163 0.25379001 0.04181185\n",
      " 0.77987421 0.38297872 0.31096007 0.17941953]\n"
     ]
    }
   ],
   "source": [
    "rfc = RandomForestClassifier(n_estimators=50, criterion='gini', max_depth=None, min_samples_split=2, \n",
    "                             min_samples_leaf=1, min_weight_fraction_leaf=0.0, max_features='auto', \n",
    "                             max_leaf_nodes=None, min_impurity_decrease=0.0, min_impurity_split=None, \n",
    "                             bootstrap=True, oob_score=False, n_jobs=1, random_state=None, verbose=0, \n",
    "                             warm_start=False, class_weight='balanced')\n",
    "rfc.fit(trainVectors, trainLabels)\n",
    "rfc_prediction = rfc.predict(testVectors)\n",
    "print(\"Accuracy: \" + str(metrics.accuracy_score(rfc_prediction, testLabels)))\n",
    "print(\"F1: \" + str(metrics.f1_score(rfc_prediction, testLabels, average=None)))"
   ]
  },
  {
   "cell_type": "code",
   "execution_count": 88,
   "metadata": {},
   "outputs": [
    {
     "name": "stdout",
     "output_type": "stream",
     "text": [
      "['1' '38' '38' '12' '2' '38' '2' '10' '38' '4']\n",
      "['1', '38', '38', '12', '25', '12', '4', '9', '38', '4']\n"
     ]
    }
   ],
   "source": [
    "print(rfc_prediction[0:10])\n",
    "print(testLabels[0:10])"
   ]
  },
  {
   "cell_type": "code",
   "execution_count": 15,
   "metadata": {},
   "outputs": [
    {
     "name": "stdout",
     "output_type": "stream",
     "text": [
      "Accuracy: 0.3523148148148148\n",
      "F1: [0.3951578  0.39760837 0.65719819 0.08358209 0.15965788 0.01821494\n",
      " 0.68873329 0.09832402 0.2780441  0.0928    ]\n"
     ]
    }
   ],
   "source": [
    "linear_svc = svm.LinearSVC(penalty='l2', loss='squared_hinge', dual=True, tol=0.0001, C=1.0, multi_class='ovr', \n",
    "                    fit_intercept=True, intercept_scaling=1, class_weight=None, verbose=1, random_state=None, \n",
    "                    max_iter=1000)\n",
    "linear_svc.fit(trainVectors, trainLabels)\n",
    "linear_svc_prediction = linear_svc.predict(testVectors)\n",
    "print(\"Accuracy: \" + str(metrics.accuracy_score(linear_svc_prediction, testLabels)))\n",
    "print(\"F1: \" + str(metrics.f1_score(linear_svc_prediction, testLabels, average=None)))"
   ]
  },
  {
   "cell_type": "code",
   "execution_count": 19,
   "metadata": {},
   "outputs": [
    {
     "name": "stdout",
     "output_type": "stream",
     "text": [
      "Accuracy: 0.3470679012345679\n",
      "F1: [0.37551501 0.40244836 0.68347826 0.13404826 0.21608643 0.08285386\n",
      " 0.76012966 0.31918936 0.2473041  0.19027484]\n"
     ]
    }
   ],
   "source": [
    "knn = KNeighborsClassifier(n_neighbors=50, weights='uniform', algorithm='auto', leaf_size=30, p=2, metric='minkowski', \n",
    "                           metric_params=None, n_jobs=1)\n",
    "knn.fit(trainVectors, trainLabels)\n",
    "knn_prediction = knn.predict(testVectors)\n",
    "print(\"Accuracy: \" + str(metrics.accuracy_score(knn_prediction, testLabels)))\n",
    "print(\"F1: \" + str(metrics.f1_score(knn_prediction, testLabels, average=None)))"
   ]
  },
  {
   "cell_type": "code",
   "execution_count": 27,
   "metadata": {},
   "outputs": [],
   "source": [
    "# indices = [i for i, x in enumerate(trainVectors)]\n",
    "# np.random.shuffle(indices)\n",
    "# trainVectorsRandom = [trainVectors[i] for i in indices[:-3000]]\n",
    "# trainLabelsRandom = [trainLabels[i] for i in indices[:-3000]]\n",
    "# testVectorsRandom = [trainVectors[i] for i in indices[-3000:]]\n",
    "# testLabelsRandom = [trainLabels[i] for i in indices[-3000:]]"
   ]
  },
  {
   "cell_type": "code",
   "execution_count": 29,
   "metadata": {},
   "outputs": [
    {
     "name": "stdout",
     "output_type": "stream",
     "text": [
      "Accuracy: 0.3903333333333333\n",
      "F1: [0.38286479 0.46649485 0.68807339 0.25320513 0.28863346 0.12345679\n",
      " 0.71255061 0.13333333 0.22485207 0.28773585]\n"
     ]
    }
   ],
   "source": [
    "# lr = linear_model.LogisticRegression(penalty='l2', dual=False, tol=0.0001, C=1.0, fit_intercept=True, \n",
    "#                                      intercept_scaling=1, class_weight='balanced', random_state=None, solver='saga', \n",
    "#                                      max_iter=100, multi_class='ovr', verbose=1, warm_start=False, n_jobs=1)\n",
    "# lr.fit(trainVectorsRandom, trainLabelsRandom)\n",
    "# lr_prediction = lr.predict(testVectorsRandom)\n",
    "# print(\"Accuracy: \" + str(metrics.accuracy_score(lr_prediction, testLabelsRandom)))\n",
    "# print(\"F1: \" + str(metrics.f1_score(lr_prediction, testLabelsRandom, average=None)))"
   ]
  },
  {
   "cell_type": "code",
   "execution_count": null,
   "metadata": {},
   "outputs": [],
   "source": []
  },
  {
   "cell_type": "code",
   "execution_count": null,
   "metadata": {},
   "outputs": [],
   "source": []
  },
  {
   "cell_type": "code",
   "execution_count": 34,
   "metadata": {},
   "outputs": [],
   "source": [
    "#39,209 training images in 43 classes\n",
    "trainVectors, trainLabels = readTrafficSignsAdapted('./GTSRB/Final_Training', '/Haar/')"
   ]
  },
  {
   "cell_type": "code",
   "execution_count": 36,
   "metadata": {},
   "outputs": [
    {
     "name": "stdout",
     "output_type": "stream",
     "text": [
      "11584\n",
      "19620\n"
     ]
    }
   ],
   "source": [
    "print(len(trainVectors[0]))\n",
    "print(len(trainLabels))"
   ]
  },
  {
   "cell_type": "code",
   "execution_count": 37,
   "metadata": {},
   "outputs": [],
   "source": [
    "#12,630 test images or the corresponding pre-calculated features in random order\n",
    "testVectors, testLabels = readTrafficSignsTest('./GTSRB/Final_Testing', '/Haar/')"
   ]
  },
  {
   "cell_type": "code",
   "execution_count": 38,
   "metadata": {},
   "outputs": [
    {
     "name": "stdout",
     "output_type": "stream",
     "text": [
      "6480\n",
      "6480\n"
     ]
    }
   ],
   "source": [
    "print(len(testVectors))\n",
    "print(len(testLabels))"
   ]
  },
  {
   "cell_type": "code",
   "execution_count": null,
   "metadata": {},
   "outputs": [],
   "source": []
  },
  {
   "cell_type": "code",
   "execution_count": 41,
   "metadata": {},
   "outputs": [
    {
     "name": "stdout",
     "output_type": "stream",
     "text": [
      "500\n",
      "500\n"
     ]
    }
   ],
   "source": [
    "from sklearn.decomposition import PCA\n",
    "pca = PCA(n_components=500, copy=True, whiten=False, svd_solver='auto', tol=0.0, iterated_power='auto', random_state=None)\n",
    "pca_trainVectors = pca.fit_transform(trainVectors)\n",
    "pca_testVectors = pca.transform(testVectors)\n",
    "print(len(pca_trainVectors[0]))\n",
    "print(len(pca_testVectors[0]))"
   ]
  },
  {
   "cell_type": "code",
   "execution_count": 43,
   "metadata": {},
   "outputs": [
    {
     "name": "stdout",
     "output_type": "stream",
     "text": [
      "Accuracy: 0.8037037037037037\n",
      "F1: [0.69598965 0.85235921 0.85468862 0.93838863 0.72595281 0.90870488\n",
      " 0.8577745  0.74395329 0.65957447 0.84642438]\n"
     ]
    }
   ],
   "source": [
    "rfc_haar = RandomForestClassifier(n_estimators=50, criterion='gini', max_depth=None, min_samples_split=2, \n",
    "                             min_samples_leaf=1, min_weight_fraction_leaf=0.0, max_features='auto', \n",
    "                             max_leaf_nodes=None, min_impurity_decrease=0.0, min_impurity_split=None, \n",
    "                             bootstrap=True, oob_score=False, n_jobs=1, random_state=None, verbose=0, \n",
    "                             warm_start=False, class_weight='balanced')\n",
    "rfc_haar.fit(pca_trainVectors, trainLabels)\n",
    "rfc_haar_prediction = rfc_haar.predict(pca_testVectors)\n",
    "print(\"Accuracy: \" + str(metrics.accuracy_score(rfc_haar_prediction, testLabels)))\n",
    "print(\"F1: \" + str(metrics.f1_score(rfc_haar_prediction, testLabels, average=None)))"
   ]
  },
  {
   "cell_type": "code",
   "execution_count": 44,
   "metadata": {},
   "outputs": [
    {
     "name": "stdout",
     "output_type": "stream",
     "text": [
      "[LibLinear]Accuracy: 0.7958333333333333\n",
      "F1: [0.59839605 0.81654957 0.77547496 0.94299789 0.78339818 0.93769799\n",
      " 0.93952802 0.7298995  0.69594035 0.8239521 ]\n"
     ]
    },
    {
     "name": "stderr",
     "output_type": "stream",
     "text": [
      "/Library/Frameworks/Python.framework/Versions/3.6/lib/python3.6/site-packages/sklearn/svm/base.py:898: ConvergenceWarning: Liblinear failed to converge, increase the number of iterations.\n",
      "  \"the number of iterations.\", ConvergenceWarning)\n"
     ]
    }
   ],
   "source": [
    "linear_svc_haar = svm.LinearSVC(penalty='l2', loss='squared_hinge', dual=True, tol=0.0001, C=1.0, multi_class='ovr', \n",
    "                    fit_intercept=True, intercept_scaling=1, class_weight=None, verbose=1, random_state=None, \n",
    "                    max_iter=1000)\n",
    "linear_svc_haar.fit(pca_trainVectors, trainLabels)\n",
    "linear_svc_haar_prediction = linear_svc_haar.predict(pca_testVectors)\n",
    "print(\"Accuracy: \" + str(metrics.accuracy_score(linear_svc_haar_prediction, testLabels)))\n",
    "print(\"F1: \" + str(metrics.f1_score(linear_svc_haar_prediction, testLabels, average=None)))"
   ]
  },
  {
   "cell_type": "code",
   "execution_count": 45,
   "metadata": {},
   "outputs": [
    {
     "name": "stdout",
     "output_type": "stream",
     "text": [
      "Accuracy: 0.7348765432098765\n",
      "F1: [0.57319224 0.75103164 0.87885628 0.98189415 0.5667528  0.96558916\n",
      " 0.86074074 0.62937063 0.51495017 0.70976253]\n"
     ]
    }
   ],
   "source": [
    "knn_haar = KNeighborsClassifier(n_neighbors=50, weights='uniform', algorithm='auto', leaf_size=30, p=2, metric='minkowski', \n",
    "                           metric_params=None, n_jobs=1)\n",
    "knn.fit(pca_trainVectors, trainLabels)\n",
    "knn_haar_prediction = knn.predict(pca_testVectors)\n",
    "print(\"Accuracy: \" + str(metrics.accuracy_score(knn_haar_prediction, testLabels)))\n",
    "print(\"F1: \" + str(metrics.f1_score(knn_haar_prediction, testLabels, average=None)))"
   ]
  },
  {
   "cell_type": "code",
   "execution_count": 48,
   "metadata": {},
   "outputs": [],
   "source": [
    "# lr_haar = linear_model.LogisticRegression(penalty='l2', dual=False, tol=0.0001, C=1.0, fit_intercept=True, \n",
    "#                                      intercept_scaling=1, class_weight='balanced', random_state=None, solver='saga', \n",
    "#                                      max_iter=500, multi_class='ovr', verbose=1, warm_start=False, n_jobs=1)\n",
    "# lr_haar.fit(pca_trainVectors, trainLabels)\n",
    "# lr_haar_prediction = lr_haar.predict(pca_testVectors)\n",
    "# print(\"Accuracy: \" + str(metrics.accuracy_score(lr_haar_prediction, testLabels)))\n",
    "# print(\"F1: \" + str(metrics.f1_score(lr_haar_prediction, testLabels, average=None)))\n",
    "\n",
    "#Coef could not converge after 500 iter, remember LR is solved with SGD"
   ]
  },
  {
   "cell_type": "code",
   "execution_count": null,
   "metadata": {},
   "outputs": [],
   "source": []
  },
  {
   "cell_type": "code",
   "execution_count": null,
   "metadata": {},
   "outputs": [],
   "source": []
  },
  {
   "cell_type": "code",
   "execution_count": null,
   "metadata": {},
   "outputs": [],
   "source": []
  },
  {
   "cell_type": "code",
   "execution_count": 50,
   "metadata": {},
   "outputs": [],
   "source": [
    "#39,209 training images in 43 classes\n",
    "trainVectors_hog, trainLabels_hog = readTrafficSignsAdapted('./GTSRB/Final_Training', '/HOG/HOG_01/')"
   ]
  },
  {
   "cell_type": "code",
   "execution_count": 52,
   "metadata": {},
   "outputs": [
    {
     "name": "stdout",
     "output_type": "stream",
     "text": [
      "1568\n",
      "19620\n"
     ]
    }
   ],
   "source": [
    "print(len(trainVectors_hog[0]))\n",
    "print(len(trainLabels_hog))"
   ]
  },
  {
   "cell_type": "code",
   "execution_count": 54,
   "metadata": {},
   "outputs": [],
   "source": [
    "#12,630 test images or the corresponding pre-calculated features in random order\n",
    "testVectors_hog, testLabels_hog = readTrafficSignsTest('./GTSRB/Final_Testing', '/HOG/HOG_01/')"
   ]
  },
  {
   "cell_type": "code",
   "execution_count": 56,
   "metadata": {},
   "outputs": [
    {
     "name": "stdout",
     "output_type": "stream",
     "text": [
      "6480\n",
      "6480\n"
     ]
    }
   ],
   "source": [
    "print(len(testVectors_hog))\n",
    "print(len(testLabels_hog))"
   ]
  },
  {
   "cell_type": "code",
   "execution_count": 57,
   "metadata": {},
   "outputs": [
    {
     "name": "stdout",
     "output_type": "stream",
     "text": [
      "1000\n",
      "1000\n"
     ]
    }
   ],
   "source": [
    "from sklearn.decomposition import PCA\n",
    "pca = PCA(n_components=1000, copy=True, whiten=False, svd_solver='auto', tol=0.0, iterated_power='auto', random_state=None)\n",
    "pca_trainVectors_hog = pca.fit_transform(trainVectors_hog)\n",
    "pca_testVectors_hog = pca.transform(testVectors_hog)\n",
    "print(len(pca_trainVectors_hog[0]))\n",
    "print(len(pca_testVectors_hog[0]))"
   ]
  },
  {
   "cell_type": "code",
   "execution_count": 58,
   "metadata": {},
   "outputs": [
    {
     "name": "stdout",
     "output_type": "stream",
     "text": [
      "Accuracy: 0.8350308641975308\n",
      "F1: [0.67665078 0.85466377 0.95628036 0.98351648 0.69810165 0.96905016\n",
      " 0.9670812  0.82268371 0.56840247 0.89088864]\n"
     ]
    }
   ],
   "source": [
    "rfc_hog = RandomForestClassifier(n_estimators=50, criterion='gini', max_depth=None, min_samples_split=2, \n",
    "                             min_samples_leaf=1, min_weight_fraction_leaf=0.0, max_features='auto', \n",
    "                             max_leaf_nodes=None, min_impurity_decrease=0.0, min_impurity_split=None, \n",
    "                             bootstrap=True, oob_score=False, n_jobs=1, random_state=None, verbose=0, \n",
    "                             warm_start=False, class_weight='balanced')\n",
    "rfc_hog.fit(pca_trainVectors_hog, trainLabels_hog)\n",
    "rfc_hog_prediction = rfc_hog.predict(pca_testVectors_hog)\n",
    "print(\"Accuracy: \" + str(metrics.accuracy_score(rfc_hog_prediction, testLabels_hog)))\n",
    "print(\"F1: \" + str(metrics.f1_score(rfc_hog_prediction, testLabels_hog, average=None)))"
   ]
  },
  {
   "cell_type": "code",
   "execution_count": 59,
   "metadata": {},
   "outputs": [
    {
     "name": "stdout",
     "output_type": "stream",
     "text": [
      "[LibLinear]Accuracy: 0.9737654320987654\n",
      "F1: [0.95095949 0.98855835 0.99855072 0.99653019 0.9434954  0.99170124\n",
      " 0.99565847 0.97720365 0.90994518 0.99583333]\n"
     ]
    }
   ],
   "source": [
    "linear_svc_hog = svm.LinearSVC(penalty='l2', loss='squared_hinge', dual=True, tol=0.0001, C=1.0, multi_class='ovr', \n",
    "                    fit_intercept=True, intercept_scaling=1, class_weight=None, verbose=1, random_state=None, \n",
    "                    max_iter=1000)\n",
    "linear_svc_hog.fit(pca_trainVectors_hog, trainLabels_hog)\n",
    "linear_svc_hog_prediction = linear_svc_hog.predict(pca_testVectors_hog)\n",
    "print(\"Accuracy: \" + str(metrics.accuracy_score(linear_svc_hog_prediction, testLabels_hog)))\n",
    "print(\"F1: \" + str(metrics.f1_score(linear_svc_hog_prediction, testLabels_hog, average=None)))"
   ]
  },
  {
   "cell_type": "code",
   "execution_count": 60,
   "metadata": {},
   "outputs": [
    {
     "name": "stdout",
     "output_type": "stream",
     "text": [
      "Accuracy: 0.8524691358024692\n",
      "F1: [0.65692175 0.907173   1.         0.99930604 0.64142195 0.99895725\n",
      " 0.97473997 0.87657784 0.64157706 0.87719298]\n"
     ]
    }
   ],
   "source": [
    "knn_hog = KNeighborsClassifier(n_neighbors=50, weights='uniform', algorithm='auto', leaf_size=30, p=2, metric='minkowski', \n",
    "                           metric_params=None, n_jobs=1)\n",
    "knn.fit(pca_trainVectors_hog, trainLabels_hog)\n",
    "knn_hog_prediction = knn.predict(pca_testVectors_hog)\n",
    "print(\"Accuracy: \" + str(metrics.accuracy_score(knn_hog_prediction, testLabels_hog)))\n",
    "print(\"F1: \" + str(metrics.f1_score(knn_hog_prediction, testLabels_hog, average=None)))"
   ]
  },
  {
   "cell_type": "code",
   "execution_count": null,
   "metadata": {},
   "outputs": [],
   "source": [
    "# lr_haar = linear_model.LogisticRegression(penalty='l2', dual=False, tol=0.0001, C=1.0, fit_intercept=True, \n",
    "#                                      intercept_scaling=1, class_weight='balanced', random_state=None, solver='saga', \n",
    "#                                      max_iter=500, multi_class='ovr', verbose=1, warm_start=False, n_jobs=1)\n",
    "# lr_haar.fit(pca_trainVectors, trainLabels)\n",
    "# lr_haar_prediction = lr_haar.predict(pca_testVectors)\n",
    "# print(\"Accuracy: \" + str(metrics.accuracy_score(lr_haar_prediction, testLabels)))\n",
    "# print(\"F1: \" + str(metrics.f1_score(lr_haar_prediction, testLabels, average=None)))\n",
    "\n",
    "#Coef could not converge after 500 iter, remember LR is solved with SGD"
   ]
  },
  {
   "cell_type": "code",
   "execution_count": null,
   "metadata": {},
   "outputs": [],
   "source": []
  },
  {
   "cell_type": "code",
   "execution_count": null,
   "metadata": {},
   "outputs": [],
   "source": []
  },
  {
   "cell_type": "code",
   "execution_count": null,
   "metadata": {},
   "outputs": [],
   "source": []
  },
  {
   "cell_type": "code",
   "execution_count": null,
   "metadata": {},
   "outputs": [],
   "source": []
  }
 ],
 "metadata": {
  "kernelspec": {
   "display_name": "Python 3",
   "language": "python",
   "name": "python3"
  },
  "language_info": {
   "codemirror_mode": {
    "name": "ipython",
    "version": 3
   },
   "file_extension": ".py",
   "mimetype": "text/x-python",
   "name": "python",
   "nbconvert_exporter": "python",
   "pygments_lexer": "ipython3",
   "version": "3.6.4"
  }
 },
 "nbformat": 4,
 "nbformat_minor": 2
}
