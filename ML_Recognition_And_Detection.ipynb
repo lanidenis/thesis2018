{
 "cells": [
  {
   "cell_type": "code",
   "execution_count": 2,
   "metadata": {},
   "outputs": [],
   "source": [
    "from mpl_toolkits.mplot3d import Axes3D\n",
    "import matplotlib.pyplot as plt\n",
    "import csv\n",
    "import numpy as np\n",
    "import os \n",
    "\n",
    "from sklearn.feature_extraction.text import CountVectorizer\n",
    "import nltk, re\n",
    "from nltk.corpus import stopwords\n",
    "from sklearn.naive_bayes import BernoulliNB\n",
    "from sklearn import metrics\n",
    "from sklearn.naive_bayes import MultinomialNB\n",
    "from sklearn.model_selection import GridSearchCV\n",
    "from sklearn import svm\n",
    "from sklearn.metrics import make_scorer\n",
    "from sklearn.metrics import accuracy_score\n",
    "from sklearn.feature_extraction.text import TfidfVectorizer\n",
    "from sklearn.ensemble import RandomForestClassifier\n",
    "from sklearn.tree import DecisionTreeClassifier\n",
    "from sklearn.decomposition import TruncatedSVD\n",
    "from sklearn.feature_selection import SelectKBest\n",
    "from sklearn.feature_selection import chi2\n",
    "from sklearn.neighbors import KNeighborsClassifier\n",
    "from sklearn import linear_model \n",
    "\n",
    "import pickle\n",
    "from sklearn.externals import joblib"
   ]
  },
  {
   "cell_type": "code",
   "execution_count": 64,
   "metadata": {},
   "outputs": [],
   "source": [
    "# import pickle\n",
    "# from sklearn.externals import joblib"
   ]
  },
  {
   "cell_type": "code",
   "execution_count": null,
   "metadata": {},
   "outputs": [],
   "source": [
    "###CLASSIFICATION SVM BOUNDING BOX DISTRIBUTION"
   ]
  },
  {
   "cell_type": "code",
   "execution_count": 69,
   "metadata": {},
   "outputs": [],
   "source": [
    "# loaded = np.load('/tmp/distribution_data.npz')\n",
    "loaded = np.load('/tmp/ml_classification.npz')\n",
    "hog_pos_train=loaded['hog_pos_train']\n",
    "hog_pos_train_label=loaded['hog_pos_train_label']\n",
    "hog_pos_test=loaded['hog_pos_test'] \n",
    "hog_pos_test_label=loaded['hog_pos_test_label']"
   ]
  },
  {
   "cell_type": "code",
   "execution_count": 71,
   "metadata": {},
   "outputs": [],
   "source": [
    "def correctShape(data):\n",
    "    num_samples = len(data)\n",
    "    len_samples = len(data[0])\n",
    "    new_data = []\n",
    "    count = 0\n",
    "\n",
    "    for i in range(num_samples):\n",
    "        new_data.append([data[i][j][0] for j in range(len_samples)])    \n",
    "\n",
    "        if count % 5000 == 0:\n",
    "            print(count)\n",
    "        count += 1 \n",
    "        \n",
    "    return new_data"
   ]
  },
  {
   "cell_type": "code",
   "execution_count": 73,
   "metadata": {},
   "outputs": [
    {
     "name": "stdout",
     "output_type": "stream",
     "text": [
      "1568\n",
      "1568\n",
      "15000\n",
      "3971\n"
     ]
    }
   ],
   "source": [
    "hog_pos_train = correctShape(hog_pos_train)\n",
    "hog_pos_test = correctShape(hog_pos_test)\n",
    "\n",
    "print(len(hog_pos_train[0]))\n",
    "print(len(hog_pos_test[0]))\n",
    "\n",
    "print(len(hog_pos_train))\n",
    "print(len(hog_pos_test))"
   ]
  },
  {
   "cell_type": "code",
   "execution_count": 61,
   "metadata": {},
   "outputs": [
    {
     "name": "stdout",
     "output_type": "stream",
     "text": [
      "1000\n",
      "1000\n"
     ]
    }
   ],
   "source": [
    "from sklearn.decomposition import PCA\n",
    "pca = PCA(n_components=1000, copy=True, whiten=False, svd_solver='auto', tol=0.0, iterated_power='auto', random_state=None)\n",
    "pca_trainVectors_hog = pca.fit_transform(hog_pos_train)\n",
    "pca_testVectors_hog = pca.transform(hog_pos_test)\n",
    "testLabels_hog = hog_pos_test_label\n",
    "trainLabels_hog = hog_pos_train_label\n",
    "print(len(pca_trainVectors_hog[0]))\n",
    "print(len(pca_testVectors_hog[0]))"
   ]
  },
  {
   "cell_type": "code",
   "execution_count": 62,
   "metadata": {},
   "outputs": [
    {
     "name": "stdout",
     "output_type": "stream",
     "text": [
      "[LibLinear]Accuracy: 0.9579451019894233\n",
      "F1: [0.90122087 0.90761421 0.97766097 0.83489097 0.97777778 0.98762376\n",
      " 0.998      0.99797571 1.         0.99373695]\n"
     ]
    }
   ],
   "source": [
    "linear_svc_hog = svm.LinearSVC(penalty='l2', loss='squared_hinge', dual=True, tol=0.0001, C=1.0, multi_class='ovr', \n",
    "                    fit_intercept=True, intercept_scaling=1, class_weight=None, verbose=1, random_state=None, \n",
    "                    max_iter=1000)\n",
    "linear_svc_hog.fit(pca_trainVectors_hog, trainLabels_hog)\n",
    "linear_svc_hog_prediction = linear_svc_hog.predict(pca_testVectors_hog)\n",
    "print(\"Accuracy: \" + str(metrics.accuracy_score(linear_svc_hog_prediction, testLabels_hog)))\n",
    "print(\"F1: \" + str(metrics.f1_score(linear_svc_hog_prediction, testLabels_hog, average=None)))"
   ]
  },
  {
   "cell_type": "code",
   "execution_count": 65,
   "metadata": {},
   "outputs": [
    {
     "data": {
      "text/plain": [
       "(10, 1000)"
      ]
     },
     "execution_count": 65,
     "metadata": {},
     "output_type": "execute_result"
    }
   ],
   "source": [
    "linear_svc_hog.coef_.shape"
   ]
  },
  {
   "cell_type": "code",
   "execution_count": 66,
   "metadata": {},
   "outputs": [
    {
     "data": {
      "text/plain": [
       "['svc_sliding_window_classification.pkl']"
      ]
     },
     "execution_count": 66,
     "metadata": {},
     "output_type": "execute_result"
    }
   ],
   "source": [
    "#persist model for later use\n",
    "joblib.dump(linear_svc_hog, 'svc_sliding_window_classification.pkl') \n",
    "#clf = joblib.load('svc_sliding_window_classification.pkl') "
   ]
  },
  {
   "cell_type": "code",
   "execution_count": null,
   "metadata": {},
   "outputs": [],
   "source": []
  },
  {
   "cell_type": "code",
   "execution_count": null,
   "metadata": {},
   "outputs": [],
   "source": [
    "##DETECTION SVM BOUNDING BOX DISTRIBUTION"
   ]
  },
  {
   "cell_type": "code",
   "execution_count": 74,
   "metadata": {},
   "outputs": [],
   "source": [
    "##Run SVM Classifier for Dectection on HoG\n",
    "loaded = np.load('/tmp/ml_detection.npz')\n",
    "total_hog_train=loaded['total_hog_train'] \n",
    "total_hog_train_labels=loaded['total_hog_train_labels']    \n",
    "total_hog_test=loaded['total_hog_test']\n",
    "total_hog_test_labels=loaded['total_hog_test_labels']"
   ]
  },
  {
   "cell_type": "code",
   "execution_count": 75,
   "metadata": {},
   "outputs": [
    {
     "name": "stdout",
     "output_type": "stream",
     "text": [
      "(25000, 1568, 1)\n"
     ]
    }
   ],
   "source": [
    "print(total_hog_train.shape)"
   ]
  },
  {
   "cell_type": "code",
   "execution_count": 79,
   "metadata": {},
   "outputs": [
    {
     "name": "stdout",
     "output_type": "stream",
     "text": [
      "25000\n",
      "8000\n"
     ]
    }
   ],
   "source": [
    "total_hog_train = correctShape(total_hog_train)\n",
    "total_hog_test = correctShape(total_hog_test)\n",
    "print(len(total_hog_train))\n",
    "print(len(total_hog_test))"
   ]
  },
  {
   "cell_type": "code",
   "execution_count": 81,
   "metadata": {},
   "outputs": [
    {
     "name": "stdout",
     "output_type": "stream",
     "text": [
      "1000\n",
      "1000\n"
     ]
    }
   ],
   "source": [
    "from sklearn.decomposition import PCA\n",
    "pca = PCA(n_components=1000, copy=True, whiten=False, svd_solver='auto', tol=0.0, iterated_power='auto', random_state=None)\n",
    "pca_trainVectors_hog = pca.fit_transform(total_hog_train)\n",
    "pca_testVectors_hog = pca.transform(total_hog_test)\n",
    "testLabels_hog = total_hog_test_labels\n",
    "trainLabels_hog = total_hog_train_labels\n",
    "print(len(pca_trainVectors_hog[0]))\n",
    "print(len(pca_testVectors_hog[0]))"
   ]
  },
  {
   "cell_type": "code",
   "execution_count": 82,
   "metadata": {},
   "outputs": [
    {
     "name": "stdout",
     "output_type": "stream",
     "text": [
      "[LibLinear]Accuracy: 0.98875\n",
      "F1: [0.98819517 0.98925501]\n"
     ]
    }
   ],
   "source": [
    "linear_svc_hog = svm.LinearSVC(penalty='l2', loss='squared_hinge', dual=True, tol=0.0001, C=1.0, multi_class='ovr', \n",
    "                    fit_intercept=True, intercept_scaling=1, class_weight=None, verbose=1, random_state=None, \n",
    "                    max_iter=1000)\n",
    "linear_svc_hog.fit(pca_trainVectors_hog, trainLabels_hog)\n",
    "linear_svc_hog_prediction = linear_svc_hog.predict(pca_testVectors_hog)\n",
    "print(\"Accuracy: \" + str(metrics.accuracy_score(linear_svc_hog_prediction, testLabels_hog)))\n",
    "print(\"F1: \" + str(metrics.f1_score(linear_svc_hog_prediction, testLabels_hog, average=None)))"
   ]
  },
  {
   "cell_type": "code",
   "execution_count": 92,
   "metadata": {},
   "outputs": [],
   "source": [
    "s = pickle.dumps(linear_svc_hog)\n",
    "np.savez('/tmp/svc_detection_data', classifier=[s], pca_testVectors_hog=pca_testVectors_hog, testLabels_hog=testLabels_hog)"
   ]
  },
  {
   "cell_type": "code",
   "execution_count": 83,
   "metadata": {},
   "outputs": [
    {
     "data": {
      "text/plain": [
       "['svc_sliding_window_detection.pkl']"
      ]
     },
     "execution_count": 83,
     "metadata": {},
     "output_type": "execute_result"
    }
   ],
   "source": [
    "#persist model for later use\n",
    "joblib.dump(linear_svc_hog, 'svc_sliding_window_detection.pkl') \n",
    "#clf = joblib.load('svc_sliding_window_detection.pkl') "
   ]
  },
  {
   "cell_type": "code",
   "execution_count": null,
   "metadata": {},
   "outputs": [],
   "source": []
  }
 ],
 "metadata": {
  "kernelspec": {
   "display_name": "Python 3",
   "language": "python",
   "name": "python3"
  },
  "language_info": {
   "codemirror_mode": {
    "name": "ipython",
    "version": 3
   },
   "file_extension": ".py",
   "mimetype": "text/x-python",
   "name": "python",
   "nbconvert_exporter": "python",
   "pygments_lexer": "ipython3",
   "version": "3.6.4"
  }
 },
 "nbformat": 4,
 "nbformat_minor": 2
}
