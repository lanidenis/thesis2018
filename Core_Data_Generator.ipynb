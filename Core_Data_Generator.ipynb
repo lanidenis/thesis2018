{
 "cells": [
  {
   "cell_type": "code",
   "execution_count": 68,
   "metadata": {},
   "outputs": [],
   "source": [
    "import numpy as np\n",
    "import csv\n",
    "import matplotlib.pyplot as plt\n",
    "import os, os.path\n",
    "import cv2\n",
    "import skimage.feature"
   ]
  },
  {
   "cell_type": "code",
   "execution_count": 4,
   "metadata": {},
   "outputs": [],
   "source": [
    "def getDataGTSDB(rootpath):\n",
    "    data = []\n",
    "    gtFile = open(rootpath)\n",
    "    gtReader = csv.reader(gtFile, delimiter=';')\n",
    "    data = []\n",
    "    for row in gtReader:\n",
    "        data.append(row)\n",
    "    gtFile.close()        \n",
    "    return data"
   ]
  },
  {
   "cell_type": "code",
   "execution_count": 5,
   "metadata": {},
   "outputs": [],
   "source": [
    "#determine number of unique images with some amount of labeling\n",
    "#determine number of images with single label vs more than one\n",
    "\n",
    "data = getDataGTSDB('./FullIJCNN2013/gt.txt')\n",
    "current = data[0][0]\n",
    "duplicate = False\n",
    "nunique = 1\n",
    "nsingle = 0\n",
    "for row in data[1:]:\n",
    "    if current == row[0]:\n",
    "        if duplicate is False:\n",
    "            duplicate = True\n",
    "    else:\n",
    "        current = row[0]\n",
    "        if duplicate is False:\n",
    "            nunique += 1\n",
    "            nsingle += 1\n",
    "        else:\n",
    "            nunique += 1\n",
    "        duplicate = False"
   ]
  },
  {
   "cell_type": "code",
   "execution_count": 6,
   "metadata": {},
   "outputs": [
    {
     "name": "stdout",
     "output_type": "stream",
     "text": [
      "741\n",
      "395\n"
     ]
    }
   ],
   "source": [
    "print(nunique)\n",
    "print(nsingle)"
   ]
  },
  {
   "cell_type": "code",
   "execution_count": 7,
   "metadata": {},
   "outputs": [
    {
     "data": {
      "text/plain": [
       "741"
      ]
     },
     "execution_count": 7,
     "metadata": {},
     "output_type": "execute_result"
    }
   ],
   "source": [
    "data = np.array(data)\n",
    "filenames = data[:,0]\n",
    "len(np.unique(filenames))"
   ]
  },
  {
   "cell_type": "code",
   "execution_count": 28,
   "metadata": {},
   "outputs": [
    {
     "name": "stdout",
     "output_type": "stream",
     "text": [
      "689\n",
      "[81, 79, 83, 85, 88, 80, 68, 53, 31, 41]\n"
     ]
    }
   ],
   "source": [
    "#determine how many sign instances are in the topten (for end to end testing, bottleneck restricted by \n",
    "#classification capacity which we know is topten (ML methods I use are very sensitive to data skew)\n",
    "#so this will tell us how many images we can actually use to end to end test final product\n",
    "\n",
    "count = 0\n",
    "topten = [2, 1, 13, 12, 38, 10, 4, 5, 25, 9]\n",
    "index_map = {}\n",
    "for i, sign in enumerate(topten):\n",
    "    index_map[sign] = i\n",
    "    \n",
    "counts = [0]*len(topten)\n",
    "\n",
    "for row in data:\n",
    "    if int(row[5]) in topten:\n",
    "        count += 1\n",
    "        counts[index_map[int(row[5])]] += 1\n",
    "        \n",
    "print(count)\n",
    "print(counts)\n",
    "\n",
    "#there are 689 topten signs out of 1,213 instances, \n",
    "#roughly reflects the ratio in the GTSRB training and test sets"
   ]
  },
  {
   "cell_type": "code",
   "execution_count": 9,
   "metadata": {},
   "outputs": [
    {
     "name": "stdout",
     "output_type": "stream",
     "text": [
      "[1175, 1146, 1204, 1233, 1277, 1161, 986, 769, 449, 595]\n"
     ]
    }
   ],
   "source": [
    "#determine distribution that i should use to generate easy positives\n",
    "summand = sum(counts)\n",
    "distribution = [int(num*10000/summand) for num in counts]\n",
    "print(distribution)"
   ]
  },
  {
   "cell_type": "code",
   "execution_count": 10,
   "metadata": {},
   "outputs": [],
   "source": [
    "def getDimensionsGTSRB(rootpath):\n",
    "    widths = []\n",
    "    heights = []\n",
    "    # loop over all 43 classes\n",
    "    for c in range(0,43):\n",
    "        prefix = rootpath + '/Images/' + format(c, '05d') + '/' # subdirectory for class\n",
    "        gtFile = open(prefix + 'GT-'+ format(c, '05d') + '.csv') # annotations file\n",
    "        gtReader = csv.reader(gtFile, delimiter=';') # csv parser for annotations file\n",
    "        gtReader.__next__() # skip header\n",
    "        # loop over all images in current annotations file\n",
    "        for row in gtReader:\n",
    "            #images.append(plt.imread(prefix + row[0])) # the 1st column is the filename\n",
    "            widths.append(int(row[1]))\n",
    "            heights.append(int(row[2]))\n",
    "        gtFile.close()\n",
    "    return (widths, heights)\n",
    "    \n",
    "def getDimensionsGTSDB(rootpath):\n",
    "    widths = []\n",
    "    heights = []\n",
    "    gtFile = open(rootpath)\n",
    "    gtReader = csv.reader(gtFile, delimiter=';')\n",
    "    data = []\n",
    "    for row in gtReader:\n",
    "        widths.append(int(row[3]) - int(row[1]))\n",
    "        heights.append(int(row[4]) - int(row[2]))\n",
    "    gtFile.close()        \n",
    "    return (widths, heights)"
   ]
  },
  {
   "cell_type": "code",
   "execution_count": 161,
   "metadata": {},
   "outputs": [
    {
     "name": "stdout",
     "output_type": "stream",
     "text": [
      "1213 1213\n",
      "0.5862068965517241 1.2666666666666666\n",
      "16 16\n",
      "127 128\n"
     ]
    }
   ],
   "source": [
    "#examine distribution of sign dimensions from GTSDB\n",
    "widths, heights = getDimensionsGTSDB('./FullIJCNN2013/gt.txt')\n",
    "widths = np.array(widths)\n",
    "heights = np.array(heights)\n",
    "aspect = widths / heights\n",
    "\n",
    "print(len(widths), len(heights)) #both should be 1213\n",
    "print(min(aspect), max(aspect))\n",
    "print(min(widths), min(heights)) #shoud be no smaller than 16 x 16\n",
    "print(max(widths), max(heights)) #should be no larger than 128 x 128"
   ]
  },
  {
   "cell_type": "code",
   "execution_count": 162,
   "metadata": {},
   "outputs": [
    {
     "data": {
      "image/png": "[encoded data removed]",
      "text/plain": [
       "<Figure size 432x288 with 1 Axes>"
      ]
     },
     "metadata": {},
     "output_type": "display_data"
    }
   ],
   "source": [
    "plt.plot(widths, heights, 'ro')\n",
    "plt.axis([0, 128, 0, 128])\n",
    "plt.show()"
   ]
  },
  {
   "cell_type": "code",
   "execution_count": 164,
   "metadata": {},
   "outputs": [
    {
     "data": {
      "image/png": "[encoded data removed]",
      "text/plain": [
       "<Figure size 432x288 with 2 Axes>"
      ]
     },
     "metadata": {},
     "output_type": "display_data"
    }
   ],
   "source": [
    "#use pyplots 2D hist to visualize densities and extract them appropriately\n",
    "#here I use 10 by 10 pixel bins\n",
    "plt.hist2d(widths, heights, bins=26, range=[[0,130],[0,130]], cmap='Blues')\n",
    "cb = plt.colorbar()\n",
    "cb.set_label('counts in bin')"
   ]
  },
  {
   "cell_type": "code",
   "execution_count": 11,
   "metadata": {},
   "outputs": [
    {
     "name": "stdout",
     "output_type": "stream",
     "text": [
      "39209 39209\n",
      "25 25\n",
      "243 225\n"
     ]
    }
   ],
   "source": [
    "#examine distribution of sign dimensions from training recognition data\n",
    "(widths, heights) = getDimensionsGTSRB('./GTSRB/Final_Training')\n",
    "print(len(widths), len(heights)) #should be 39,209\n",
    "print(min(widths), min(heights)) #should be no smaller than 15 x 15\n",
    "print(max(widths), max(heights)) #should be no larger than 250 x 250"
   ]
  },
  {
   "cell_type": "code",
   "execution_count": 12,
   "metadata": {},
   "outputs": [
    {
     "data": {
      "image/png": "[encoded data removed]",
      "text/plain": [
       "<Figure size 432x288 with 1 Axes>"
      ]
     },
     "metadata": {},
     "output_type": "display_data"
    }
   ],
   "source": [
    "#plot distribution of sign dimensions from training recognition data\n",
    "plt.plot(widths, heights, 'ro')\n",
    "plt.axis([0, 250, 0, 250])\n",
    "plt.show()"
   ]
  },
  {
   "cell_type": "code",
   "execution_count": 13,
   "metadata": {},
   "outputs": [
    {
     "name": "stdout",
     "output_type": "stream",
     "text": [
      "38323\n"
     ]
    }
   ],
   "source": [
    "#see how much data we have if we restrict to size of detection signs, and aspect ratio closely square?\n",
    "count = 0\n",
    "w_restricted = []\n",
    "h_restricted = []\n",
    "for i in range(0,len(widths)):\n",
    "    aspect = widths[i] / heights[i]\n",
    "    if aspect >= 0.58 and aspect <= 1.266:\n",
    "        if widths[i] < 128 and heights[i] < 128:\n",
    "            w_restricted.append(widths[i])\n",
    "            h_restricted.append(heights[i])\n",
    "            count += 1\n",
    "print(count)"
   ]
  },
  {
   "cell_type": "code",
   "execution_count": 14,
   "metadata": {},
   "outputs": [
    {
     "data": {
      "image/png": "[encoded data removed]",
      "text/plain": [
       "<Figure size 432x288 with 2 Axes>"
      ]
     },
     "metadata": {},
     "output_type": "display_data"
    }
   ],
   "source": [
    "#use pyplots 2D hist to visualize densities and extract them appropriately\n",
    "#here I use 10 by 10 pixel bins\n",
    "plt.hist2d(widths, heights, bins=26, range=[[0,130],[0,130]], cmap='Blues')\n",
    "cb = plt.colorbar()\n",
    "cb.set_label('counts in bin')"
   ]
  },
  {
   "cell_type": "code",
   "execution_count": 15,
   "metadata": {},
   "outputs": [
    {
     "name": "stdout",
     "output_type": "stream",
     "text": [
      "(25, 25)\n"
     ]
    }
   ],
   "source": [
    "#extract the counts only, and convert to probabilities, for negative bounding box generation\n",
    "#note that widths are histogramed along the vertical axis, and heights along the horizontal axes\n",
    "counts, xedges, yedges = np.histogram2d(widths, heights, bins=25, range=[[0,250],[0,250]])\n",
    "print(counts.shape)"
   ]
  },
  {
   "cell_type": "code",
   "execution_count": 16,
   "metadata": {},
   "outputs": [
    {
     "name": "stdout",
     "output_type": "stream",
     "text": [
      "0.0\n",
      "0.2842969726338341\n",
      "1.0\n"
     ]
    }
   ],
   "source": [
    "counts = counts / sum(sum(counts)) #convert to probabilities\n",
    "print(np.min(counts)) #should be >= 0\n",
    "print(np.max(counts)) #should be <= 1\n",
    "print(np.sum(counts)) #should be = 1"
   ]
  },
  {
   "cell_type": "code",
   "execution_count": 17,
   "metadata": {},
   "outputs": [],
   "source": [
    "#match appropriate center x,y coordinate with computed bin probabilities\n",
    "prob = []\n",
    "for i in range(0,len(counts)):\n",
    "    for j in range(0,len(counts[0])):\n",
    "        prob.append([((i+1)*10 - 5, (j+1)*10 - 5), counts[i,j]])"
   ]
  },
  {
   "cell_type": "code",
   "execution_count": 18,
   "metadata": {},
   "outputs": [
    {
     "name": "stdout",
     "output_type": "stream",
     "text": [
      "(35, 35)\n"
     ]
    }
   ],
   "source": [
    "for (coord,proba) in prob:\n",
    "    if proba > 0.28:\n",
    "        print(coord)"
   ]
  },
  {
   "cell_type": "code",
   "execution_count": 19,
   "metadata": {},
   "outputs": [
    {
     "name": "stdout",
     "output_type": "stream",
     "text": [
      "625 625\n",
      "35:35\n"
     ]
    }
   ],
   "source": [
    "sizes = []\n",
    "probs = []\n",
    "for (coord,proba) in prob:\n",
    "    sizes.append(str(coord[0]) + \":\" + str(coord[1]))\n",
    "    probs.append(proba)\n",
    "print(len(sizes),len(probs))\n",
    "print(sizes[np.argmax(probs)])"
   ]
  },
  {
   "cell_type": "code",
   "execution_count": 20,
   "metadata": {},
   "outputs": [],
   "source": [
    "def readTrafficSigns(rootpath):    \n",
    "    images = [] # images\n",
    "    counts = []\n",
    "    # loop over all 42 classes\n",
    "    for c in range(0,43):\n",
    "        subfolder = rootpath + '/' + format(c, '02d') # subdirectory for class\n",
    "        path, dirs, files = os.walk(subfolder).__next__()\n",
    "        for i in range(0,6000):\n",
    "            images.append(plt.imread(subfolder + '/'+ format(i, '05d') + '.ppm')) # annotations file\n",
    "        counts.append(len(files))\n",
    "    return images"
   ]
  },
  {
   "cell_type": "code",
   "execution_count": 21,
   "metadata": {},
   "outputs": [
    {
     "data": {
      "text/plain": [
       "6000"
      ]
     },
     "execution_count": 21,
     "metadata": {},
     "output_type": "execute_result"
    }
   ],
   "source": [
    "#Harvest postitive samples of traffic sign images\n",
    "\n",
    "#get 6,000 random positive class images from GTSRB Test Set\n",
    "images1 = []\n",
    "path = './GTSRB/Final_Testing/Images'\n",
    "for i in range(0,6000):\n",
    "    images1.append(plt.imread(path + '/'+ format(i, '05d') + '.ppm')) # annotations file\n",
    "len(images1)"
   ]
  },
  {
   "cell_type": "code",
   "execution_count": 22,
   "metadata": {},
   "outputs": [],
   "source": [
    "def getPositiveTrainImages(rootpath, distribution):    \n",
    "    images = [] # feature vectors\n",
    "    labels = [] # corresponding labels\n",
    "    count = 0\n",
    "    # loop over topten classes\n",
    "    for c in topten:\n",
    "        print(c)\n",
    "        temp = []\n",
    "        subfolder = rootpath + format(c, '05d') # subdirectory for class\n",
    "        path, dirs, files = os.walk(subfolder).__next__()\n",
    "        for file in files:\n",
    "            if file[-3:] != 'csv':\n",
    "                temp.append(plt.imread(subfolder + '/' + file)) # annotations file\n",
    "            \n",
    "        #randomize before selection since images ordered in some manner based on similarity\n",
    "        indexes = [i for i in range(0,len(temp))]\n",
    "        np.random.shuffle(indexes)\n",
    "        temp = np.array(temp) \n",
    "        crop = temp[indexes][0:distribution[index_map[c]]]\n",
    "        images.extend(crop)\n",
    "        labels.extend([c]*len(crop))\n",
    "\n",
    "    return images, labels"
   ]
  },
  {
   "cell_type": "code",
   "execution_count": 24,
   "metadata": {},
   "outputs": [
    {
     "name": "stdout",
     "output_type": "stream",
     "text": [
      "9995\n"
     ]
    }
   ],
   "source": [
    "#Harvest postitive samples of topten traffic sign images\n",
    "#distribution = [1175, 1146, 1204, 1233, 1277, 1161, 986, 769, 449, 595]\n",
    "\n",
    "#get 10,000 topten positive class images from GTSRB Training Set\n",
    "path = './GTSRB/Final_Training/Images/'\n",
    "easy_pos, easy_pos_label = getPositiveTrainImages(path, distribution)\n",
    "print(len(easy_pos))"
   ]
  },
  {
   "cell_type": "code",
   "execution_count": 25,
   "metadata": {},
   "outputs": [
    {
     "data": {
      "text/plain": [
       "9995"
      ]
     },
     "execution_count": 25,
     "metadata": {},
     "output_type": "execute_result"
    }
   ],
   "source": [
    "sum(distribution)"
   ]
  },
  {
   "cell_type": "code",
   "execution_count": 26,
   "metadata": {},
   "outputs": [
    {
     "name": "stdout",
     "output_type": "stream",
     "text": [
      "9995\n",
      "9995\n"
     ]
    }
   ],
   "source": [
    "print(len(easy_pos_label))\n",
    "print(len(easy_pos))"
   ]
  },
  {
   "cell_type": "code",
   "execution_count": 191,
   "metadata": {},
   "outputs": [
    {
     "data": {
      "text/plain": [
       "<matplotlib.image.AxesImage at 0x1ab0ec390>"
      ]
     },
     "execution_count": 191,
     "metadata": {},
     "output_type": "execute_result"
    },
    {
     "data": {
      "image/png": "[encoded data removed]",
      "text/plain": [
       "<Figure size 432x288 with 1 Axes>"
      ]
     },
     "metadata": {},
     "output_type": "display_data"
    }
   ],
   "source": [
    "#images1[1].shape\n",
    "#plt.imshow(images1[1][0:10,10:40]) #image[row_top:row_bottom,col_left:col_right]\n",
    "image = plt.imread('./FullIJCNN2013/' + '00000.ppm')\n",
    "dummy = [0,774,411,815,446,11]\n",
    "top_row = 2\n",
    "bottom_row = 4\n",
    "left_col = 1\n",
    "right_col = 3\n",
    "plt.imshow(image[dummy[top_row]:dummy[bottom_row],dummy[left_col]:dummy[right_col]])"
   ]
  },
  {
   "cell_type": "code",
   "execution_count": 194,
   "metadata": {},
   "outputs": [
    {
     "data": {
      "text/plain": [
       "<matplotlib.image.AxesImage at 0x1ab333470>"
      ]
     },
     "execution_count": 194,
     "metadata": {},
     "output_type": "execute_result"
    },
    {
     "data": {
      "image/png": "[encoded data removed]",
      "text/plain": [
       "<Figure size 432x288 with 1 Axes>"
      ]
     },
     "metadata": {},
     "output_type": "display_data"
    }
   ],
   "source": [
    "image = image[dummy[top_row]:dummy[bottom_row],dummy[left_col]:dummy[right_col]]\n",
    "plt.imshow(image[1:30,:]) #proof rows ordered from top to bottom and correspond to x coordinate"
   ]
  },
  {
   "cell_type": "code",
   "execution_count": 29,
   "metadata": {},
   "outputs": [
    {
     "name": "stdout",
     "output_type": "stream",
     "text": [
      "[14, 14, 14, 14, 14, 14, 14, 14, 14, 14]\n"
     ]
    }
   ],
   "source": [
    "distribution = np.array(distribution)\n",
    "counts = np.array(counts)\n",
    "required = distribution / counts\n",
    "per_image = [int(x) for x in required]\n",
    "print(per_image)\n",
    "#index_map[13]"
   ]
  },
  {
   "cell_type": "code",
   "execution_count": 198,
   "metadata": {},
   "outputs": [],
   "source": [
    "#bounding boxes dimensions\n",
    "bboxes = [25,30,35,40,50,60,80]"
   ]
  },
  {
   "cell_type": "code",
   "execution_count": 30,
   "metadata": {},
   "outputs": [],
   "source": [
    "top_row = 1\n",
    "bottom_row = 3\n",
    "left_col = 0\n",
    "right_col = 2\n",
    "\n",
    "def overlap(instance,top_r,left_c,w,h):\n",
    "    flag = 0\n",
    "    #check top left corner of instance\n",
    "    if instance[top_row] > top_r and instance[top_row] < top_r + h:\n",
    "        if instance[left_col] > left_c and instance[left_col] < left_c + w:\n",
    "            flag = 1\n",
    "            \n",
    "    #check top right corner of instance\n",
    "    if instance[top_row] > top_r and instance[top_row] < top_r + h:\n",
    "        if instance[right_col] > left_c and instance[right_col] < left_c + w:\n",
    "            flag = 1\n",
    "\n",
    "    #check bottom left corner of instance\n",
    "    if instance[bottom_row] > top_r and instance[bottom_row] < top_r + h:\n",
    "        if instance[left_col] > left_c and instance[left_col] < left_c + w:\n",
    "            flag = 1\n",
    "            \n",
    "    #check bottom right corner of instance\n",
    "    if instance[bottom_row] > top_r and instance[bottom_row] < top_r + h:\n",
    "        if instance[right_col] > left_c and instance[right_col] < left_c + w:\n",
    "            flag = 1\n",
    "    \n",
    "    return flag == 1"
   ]
  },
  {
   "cell_type": "code",
   "execution_count": 31,
   "metadata": {},
   "outputs": [
    {
     "name": "stdout",
     "output_type": "stream",
     "text": [
      "0\n",
      "10\n",
      "20\n",
      "30\n",
      "40\n",
      "50\n",
      "60\n",
      "70\n",
      "80\n",
      "90\n",
      "100\n",
      "110\n",
      "120\n",
      "130\n",
      "140\n",
      "150\n",
      "160\n",
      "170\n",
      "180\n",
      "190\n",
      "200\n",
      "210\n",
      "220\n",
      "230\n",
      "240\n",
      "250\n",
      "260\n",
      "270\n",
      "280\n",
      "290\n",
      "300\n",
      "310\n",
      "320\n",
      "330\n",
      "340\n",
      "350\n",
      "360\n",
      "370\n",
      "380\n",
      "390\n",
      "400\n",
      "410\n",
      "420\n",
      "430\n",
      "440\n",
      "450\n",
      "460\n",
      "470\n",
      "480\n",
      "490\n",
      "500\n",
      "510\n",
      "520\n",
      "530\n",
      "540\n",
      "550\n",
      "560\n",
      "570\n",
      "580\n",
      "590\n",
      "600\n",
      "610\n",
      "620\n",
      "630\n",
      "640\n",
      "650\n",
      "660\n",
      "670\n",
      "680\n",
      "690\n",
      "700\n",
      "710\n",
      "720\n",
      "730\n",
      "740\n",
      "750\n",
      "760\n",
      "770\n",
      "780\n",
      "790\n",
      "800\n",
      "810\n",
      "820\n",
      "830\n",
      "840\n",
      "850\n",
      "860\n",
      "870\n",
      "880\n",
      "890\n",
      "900\n",
      "910\n",
      "920\n",
      "930\n",
      "940\n",
      "950\n",
      "960\n",
      "970\n",
      "980\n",
      "990\n",
      "1000\n",
      "1010\n",
      "1020\n",
      "1030\n",
      "1040\n",
      "1050\n",
      "1060\n",
      "1070\n",
      "1080\n",
      "1090\n",
      "1100\n",
      "1110\n",
      "1120\n",
      "1130\n",
      "1140\n",
      "1150\n",
      "1160\n",
      "1170\n",
      "1180\n",
      "1190\n",
      "1200\n",
      "1210\n"
     ]
    }
   ],
   "source": [
    "#get 10,000 easy negatives, hard negatives, and hard positives from GTSDB labeled data \n",
    "#use joint distribution of bounding boxes and random areas of free space\n",
    "easy_neg = []\n",
    "hard_pos = []\n",
    "hard_neg = []\n",
    "\n",
    "easy_neg_label = []\n",
    "hard_pos_label = []\n",
    "hard_neg_label = []\n",
    "\n",
    "top_row = 1\n",
    "bottom_row = 3\n",
    "left_col = 0\n",
    "right_col = 2\n",
    "\n",
    "current = data[0][0]\n",
    "single_image = [[int(x) for x in data[0][1:]]]\n",
    "for i, row in enumerate(data[1:]):\n",
    "    if i % 10 == 0:\n",
    "        print(i)\n",
    "    if current == row[0]:\n",
    "        single_image.append([int(x) for x in row[1:]])\n",
    "    else:\n",
    "        image = plt.imread('./FullIJCNN2013/' + current)\n",
    "#         for i in range(0,len(single_image)):\n",
    "#             for j in range(0,len(single_image[0])):\n",
    "#                 single_image[i][j] = int(single_image[i][j])\n",
    "        \n",
    "        #print(single_image)\n",
    "        for instance in single_image:\n",
    "            if int(instance[4]) not in topten:\n",
    "                break\n",
    "            #print(instance, top_row, bottom_row, left_col, right_col)\n",
    "            #easy_pos.append(image[instance[top_row]:instance[bottom_row],instance[left_col]:instance[right_col]])\n",
    "        \n",
    "            #determine image and sign parameters\n",
    "            im_bottom = len(image)\n",
    "            im_right = len(image[0])\n",
    "            sign_width = instance[right_col] - instance[left_col]\n",
    "            sign_height = instance[bottom_row] - instance[top_row]\n",
    "            \n",
    "            #get as many hard positives as possible (in reality some of these might not be \"hard\")\n",
    "            wiggle_room = int(sign_height/6)\n",
    "            \n",
    "            #should return up to 16 hard positives (bboxes of similar size as ground truth and barely good overlap)\n",
    "            for i in range(2):\n",
    "                flags = []\n",
    "                #sample two from up shift\n",
    "                if instance[top_row] - 0 >= wiggle_room: #only collect if enough wiggle room\n",
    "                    shift_up = np.random.randint(wiggle_room)\n",
    "                    hard_pos.append(image[(instance[top_row]-shift_up):(instance[bottom_row]-shift_up),instance[left_col]:instance[right_col]])\n",
    "                    flags.append(1)\n",
    "                    \n",
    "                #sample from down shift \n",
    "                if im_bottom - instance[bottom_row] >= wiggle_room: #only collect if enough wiggle room\n",
    "                    shift_down = np.random.randint(wiggle_room)\n",
    "                    hard_pos.append(image[(instance[top_row]+shift_down):(instance[bottom_row]+shift_down),instance[left_col]:instance[right_col]])\n",
    "                    flags.append(2)\n",
    "                    \n",
    "                #sample from right shift\n",
    "                if im_right - instance[right_col] >= wiggle_room: #only collect if enough wiggle room\n",
    "                    shift_right = np.random.randint(wiggle_room)\n",
    "                    hard_pos.append(image[instance[top_row]:instance[bottom_row],(instance[left_col]+shift_right):(instance[right_col]+shift_right)])\n",
    "                    flags.append(3)\n",
    "                    \n",
    "                #sample from left shift\n",
    "                if instance[left_col] - 0 >= wiggle_room: #only collect if enough wiggle room\n",
    "                    shift_left = np.random.randint(wiggle_room)\n",
    "                    hard_pos.append(image[instance[top_row]:instance[bottom_row],(instance[left_col]-shift_left):(instance[right_col]-shift_left)])\n",
    "                    flags.append(4)\n",
    "                    \n",
    "                #sample two from up-right diagonal\n",
    "                if 1 in flags and 3 in flags:\n",
    "                    shift_up = np.random.randint(wiggle_room)\n",
    "                    shift_right = np.random.randint(wiggle_room)\n",
    "                    hard_pos.append(image[(instance[top_row]-shift_up):(instance[bottom_row]-shift_up),(instance[left_col]+shift_right):(instance[right_col]+shift_right)])\n",
    "                    flags.append(5)\n",
    "                    \n",
    "                #sample two from up-left diagonal\n",
    "                if 1 in flags and 4 in flags:\n",
    "                    shift_up = np.random.randint(wiggle_room)\n",
    "                    shift_left = np.random.randint(wiggle_room)\n",
    "                    hard_pos.append(image[(instance[top_row]-shift_up):(instance[bottom_row]-shift_up),(instance[left_col]-shift_left):(instance[right_col]-shift_left)])\n",
    "                    flags.append(6)\n",
    "                    \n",
    "                #sample two from down-right diagonal\n",
    "                if 2 in flags and 3 in flags:\n",
    "                    shift_down = np.random.randint(wiggle_room)\n",
    "                    shift_right = np.random.randint(wiggle_room)\n",
    "                    hard_pos.append(image[(instance[top_row]+shift_down):(instance[bottom_row]+shift_down),(instance[left_col]+shift_right):(instance[right_col]+shift_right)])\n",
    "                    flags.append(7)\n",
    "                    \n",
    "                #sample two from down-left diagonal\n",
    "                if 2 in flags and 4 in flags:\n",
    "                    shift_down = np.random.randint(wiggle_room)\n",
    "                    shift_left = np.random.randint(wiggle_room)\n",
    "                    hard_pos.append(image[(instance[top_row]+shift_down):(instance[bottom_row]+shift_down),(instance[left_col]-shift_left):(instance[right_col]-shift_left)])\n",
    "                    flags.append(8)\n",
    "                    \n",
    "                hard_pos_label.extend([int(instance[4])]*len(flags))\n",
    "\n",
    "            #get as many hard negatives as possible\n",
    "            min_shift_v = int(2*sign_height/5)\n",
    "            min_shift_h = int(2*sign_width/5)\n",
    "            \n",
    "            wiggle_top = min(instance[top_row], int(3*sign_height/4))\n",
    "            wiggle_bottom = min(im_bottom - instance[bottom_row], int(3*sign_height/4))\n",
    "            wiggle_right = min(im_right - instance[right_col], int(3*sign_width/4))\n",
    "            wiggle_left = min(instance[left_col], int(3*sign_width/4))\n",
    "            \n",
    "            #should return up to 16 hard negatives (bboxes of similar size as ground truth and almost good overlap)\n",
    "            for i in range(2):\n",
    "                flags = []\n",
    "                #sample two from up shift\n",
    "                if wiggle_top >= min_shift_v: #only collect if at least min_shift wiggle room\n",
    "                    shift_up = np.random.randint(min_shift_v, wiggle_top)\n",
    "                    hard_neg.append(image[(instance[top_row]-shift_up):(instance[bottom_row]-shift_up),instance[left_col]:instance[right_col]])\n",
    "                    flags.append(1)\n",
    "                    \n",
    "                #sample from down shift \n",
    "                if wiggle_bottom >= min_shift_v: #only collect if at least min_shift wiggle room\n",
    "                    shift_down = np.random.randint(min_shift_v, wiggle_bottom)\n",
    "                    hard_neg.append(image[(instance[top_row]+shift_down):(instance[bottom_row]+shift_down),instance[left_col]:instance[right_col]])\n",
    "                    flags.append(2)\n",
    "                    \n",
    "                #sample from right shift\n",
    "                if wiggle_right >= min_shift_h: #only collect if at least min_shift wiggle room\n",
    "                    shift_right = np.random.randint(min_shift_h, wiggle_right)\n",
    "                    hard_neg.append(image[instance[top_row]:instance[bottom_row],(instance[left_col]+shift_right):(instance[right_col]+shift_right)])\n",
    "                    flags.append(3)\n",
    "                    \n",
    "                #sample from left shift\n",
    "                if wiggle_left >= min_shift_h: #only collect if at least min_shift wiggle room\n",
    "                    shift_left = np.random.randint(min_shift_h, wiggle_left)\n",
    "                    hard_neg.append(image[instance[top_row]:instance[bottom_row],(instance[left_col]-shift_left):(instance[right_col]-shift_left)])\n",
    "                    flags.append(4)\n",
    "                    \n",
    "                #sample two from up-right diagonal\n",
    "                if 1 in flags and 3 in flags:\n",
    "                    shift_up = np.random.randint(min_shift_v, wiggle_top)\n",
    "                    shift_right = np.random.randint(min_shift_h, wiggle_right)\n",
    "                    hard_neg.append(image[(instance[top_row]-shift_up):(instance[bottom_row]-shift_up),(instance[left_col]+shift_right):(instance[right_col]+shift_right)])\n",
    "                    flags.append(5)\n",
    "                    \n",
    "                #sample two from up-left diagonal\n",
    "                if 1 in flags and 4 in flags:\n",
    "                    shift_up = np.random.randint(min_shift_v, wiggle_top)\n",
    "                    shift_left = np.random.randint(min_shift_h, wiggle_left)\n",
    "                    hard_neg.append(image[(instance[top_row]-shift_up):(instance[bottom_row]-shift_up),(instance[left_col]-shift_left):(instance[right_col]-shift_left)])\n",
    "                    flags.append(6)\n",
    "                    \n",
    "                #sample two from down-right diagonal\n",
    "                if 2 in flags and 3 in flags:\n",
    "                    shift_down = np.random.randint(min_shift_v, wiggle_bottom)\n",
    "                    shift_right = np.random.randint(min_shift_h, wiggle_right)\n",
    "                    hard_neg.append(image[(instance[top_row]+shift_down):(instance[bottom_row]+shift_down),(instance[left_col]+shift_right):(instance[right_col]+shift_right)])\n",
    "                    flags.append(7)\n",
    "                    \n",
    "                #sample two from down-left diagonal\n",
    "                if 2 in flags and 4 in flags:\n",
    "                    shift_down = np.random.randint(min_shift_v, wiggle_bottom)\n",
    "                    shift_left = np.random.randint(min_shift_h, wiggle_left)\n",
    "                    hard_neg.append(image[(instance[top_row]+shift_down):(instance[bottom_row]+shift_down),(instance[left_col]-shift_left):(instance[right_col]-shift_left)])\n",
    "                    flags.append(8)\n",
    "                    \n",
    "                hard_neg_label.extend([int(instance[4])]*len(flags))\n",
    "        \n",
    "            #get easy negatives - need 14 per instance\n",
    "            for i in range(0,14):\n",
    "                #sample a bounding box size from known distribution\n",
    "                while(True):\n",
    "                    string = np.random.choice(sizes, p=probs)\n",
    "                    [w,h] = [int(x) for x in string.split(\":\")]\n",
    "                    top_r = np.random.randint(0,im_bottom - h)\n",
    "                    left_c = np.random.randint(0,im_right - w)\n",
    "\n",
    "                    if (overlap(instance,top_r,left_c,w,h)):\n",
    "                        continue\n",
    "                    else:\n",
    "                        easy_neg.append(image[top_r:(top_r+h),left_c:(left_c+w)])\n",
    "                        easy_neg_label.append(0)\n",
    "                        break\n",
    "                \n",
    "        current = row[0]\n",
    "        single_image = [[int(x) for x in row[1:]]]\n"
   ]
  },
  {
   "cell_type": "code",
   "execution_count": 32,
   "metadata": {},
   "outputs": [
    {
     "name": "stdout",
     "output_type": "stream",
     "text": [
      "positives\n",
      "9995\n",
      "8976\n",
      "\n",
      "negatives\n",
      "7854\n",
      "8940\n"
     ]
    }
   ],
   "source": [
    "print('positives')\n",
    "print(len(easy_pos))\n",
    "print(len(hard_pos))\n",
    "\n",
    "print('\\nnegatives')\n",
    "print(len(easy_neg))\n",
    "print(len(hard_neg))"
   ]
  },
  {
   "cell_type": "code",
   "execution_count": 33,
   "metadata": {},
   "outputs": [
    {
     "name": "stdout",
     "output_type": "stream",
     "text": [
      "9\n"
     ]
    },
    {
     "data": {
      "text/plain": [
       "<matplotlib.image.AxesImage at 0x10cfe0d68>"
      ]
     },
     "execution_count": 33,
     "metadata": {},
     "output_type": "execute_result"
    },
    {
     "data": {
      "image/png": "[encoded data removed]",
      "text/plain": [
       "<Figure size 432x288 with 1 Axes>"
      ]
     },
     "metadata": {},
     "output_type": "display_data"
    }
   ],
   "source": [
    "n = 9887\n",
    "print(easy_pos_label[n])\n",
    "plt.imshow(easy_pos[n])"
   ]
  },
  {
   "cell_type": "code",
   "execution_count": 35,
   "metadata": {},
   "outputs": [
    {
     "name": "stdout",
     "output_type": "stream",
     "text": [
      "255\n",
      "0\n",
      "1\n",
      "0\n"
     ]
    },
    {
     "data": {
      "image/png": "[encoded data removed]",
      "text/plain": [
       "<Figure size 432x288 with 1 Axes>"
      ]
     },
     "metadata": {},
     "output_type": "display_data"
    }
   ],
   "source": [
    "img = easy_pos[n]\n",
    "print(np.max(img))\n",
    "print(np.min(img))\n",
    "norm_image = img.copy()\n",
    "cv2.normalize(img, norm_image, alpha=0, beta=1, norm_type=cv2.NORM_MINMAX, dtype=-1)\n",
    "plt.imshow(norm_image)\n",
    "print(np.max(norm_image))\n",
    "print(np.min(norm_image))"
   ]
  },
  {
   "cell_type": "code",
   "execution_count": 36,
   "metadata": {},
   "outputs": [
    {
     "name": "stdout",
     "output_type": "stream",
     "text": [
      "0.3586980120768031\n",
      "1.0\n",
      "0.0\n"
     ]
    },
    {
     "data": {
      "image/png": "[encoded data removed]",
      "text/plain": [
       "<Figure size 432x288 with 1 Axes>"
      ]
     },
     "metadata": {},
     "output_type": "display_data"
    }
   ],
   "source": [
    "norm_image = img.copy()\n",
    "norm_image = norm_image / np.max(img)\n",
    "plt.imshow(norm_image)\n",
    "print(np.mean(norm_image))\n",
    "print(np.max(norm_image))\n",
    "print(np.min(norm_image))"
   ]
  },
  {
   "cell_type": "code",
   "execution_count": 39,
   "metadata": {},
   "outputs": [
    {
     "data": {
      "text/plain": [
       "<matplotlib.image.AxesImage at 0x17e40aa58>"
      ]
     },
     "execution_count": 39,
     "metadata": {},
     "output_type": "execute_result"
    },
    {
     "data": {
      "image/png": "[encoded data removed]",
      "text/plain": [
       "<Figure size 432x288 with 1 Axes>"
      ]
     },
     "metadata": {},
     "output_type": "display_data"
    }
   ],
   "source": [
    "edges = cv2.Canny(img,100,200)\n",
    "plt.imshow(edges,cmap = 'gray')"
   ]
  },
  {
   "cell_type": "code",
   "execution_count": 40,
   "metadata": {},
   "outputs": [
    {
     "name": "stdout",
     "output_type": "stream",
     "text": [
      "[ 1  2  4  5  9 10 12 13 25 38]\n",
      "[ 1  2  4  5  9 10 12 13 25 38]\n",
      "[1, 2, 4, 5, 9, 10, 12, 13, 25, 38]\n"
     ]
    }
   ],
   "source": [
    "print(np.unique(np.array(easy_pos_label)))\n",
    "print(np.unique(np.array(hard_pos_label)))\n",
    "print(sorted(topten))"
   ]
  },
  {
   "cell_type": "code",
   "execution_count": 41,
   "metadata": {},
   "outputs": [],
   "source": [
    "#Save all fine data to memory\n",
    "np.savez('/tmp/distribution_data', easy_pos=easy_pos, hard_pos=hard_pos, \n",
    "         easy_pos_label=easy_pos_label, hard_pos_label=hard_pos_label, easy_neg=easy_neg,\n",
    "        hard_neg=hard_neg,easy_neg_label=easy_neg_label,hard_neg_label=hard_neg_label)"
   ]
  },
  {
   "cell_type": "code",
   "execution_count": null,
   "metadata": {},
   "outputs": [],
   "source": [
    "# #load above files from memory\n",
    "# loaded = np.load('/tmp/distribution_data.npz')\n",
    "# easy_pos = loaded['easy_pos']\n",
    "# hard_pos=loaded['hard_pos']\n",
    "# easy_pos_label=loaded['easy_pos_label']\n",
    "# hard_pos_label=loaded['hard_pos_label']\n",
    "# easy_neg=loaded['easy_neg']\n",
    "# hard_neg=loaded['hard_neg']\n",
    "# easy_neg_label=loaded['easy_neg_label']\n",
    "# hard_neg_label=loaded['hard_neg_label']"
   ]
  },
  {
   "cell_type": "code",
   "execution_count": 145,
   "metadata": {},
   "outputs": [
    {
     "name": "stdout",
     "output_type": "stream",
     "text": [
      "18971\n",
      "18971\n",
      "16794\n",
      "16794\n"
     ]
    }
   ],
   "source": [
    "#combine all positives\n",
    "positives = []\n",
    "positives.extend(easy_pos)\n",
    "positives.extend(hard_pos)\n",
    "pos_label = []\n",
    "pos_label.extend(easy_pos_label)\n",
    "pos_label.extend(hard_pos_label)\n",
    "print(len(positives))\n",
    "print(len(pos_label))\n",
    "\n",
    "#combine all negatives\n",
    "negatives = []\n",
    "negatives.extend(easy_neg)\n",
    "negatives.extend(hard_neg)\n",
    "neg_label = []\n",
    "neg_label.extend(easy_neg_label)\n",
    "neg_label.extend(hard_neg_label)\n",
    "print(len(negatives))\n",
    "print(len(neg_label))"
   ]
  },
  {
   "cell_type": "code",
   "execution_count": 146,
   "metadata": {},
   "outputs": [],
   "source": [
    "# -> All images were scaled to 40x40 pixels using bilinear interpolation\n",
    "for i in range(0,len(positives)):\n",
    "    positives[i] = cv2.resize(positives[i], (40, 40)) \n",
    "\n",
    "for i in range(0, len(negatives)):\n",
    "    negatives[i] = cv2.resize(negatives[i], (40, 40))"
   ]
  },
  {
   "cell_type": "code",
   "execution_count": 135,
   "metadata": {},
   "outputs": [],
   "source": [
    "# -> Cell size 5x5 pixels (cellsize_x = 5, cellsize_y = 5)\n",
    "# -> Block size 2x2 cells (numcell_x= 2, numcell_y = 2)\n",
    "# -> Blocks shifted by 5 pixels in both directions (descstride_x = 5, descstride_y = 5)\n",
    "# -> 8 orientations (orientbin = 8)\n",
    "# -> semiCirc = true\n",
    "# -> Preprocessor: RGB_Sqrt_Grad\n",
    "# -> Normalizer: NormL2Hys\n",
    "\n",
    "winSize = (40,40)\n",
    "blockSize = (10,10)\n",
    "blockStride = (5,5)\n",
    "cellSize = (5,5)\n",
    "nbins = 8\n",
    "derivAperture = 1\n",
    "winSigma = 4. #Gaussian smoothing window parameter\n",
    "histogramNormType = 0\n",
    "L2HysThreshold = 0.2\n",
    "gammaCorrection = 1\n",
    "nlevels = 32\n",
    "hog = cv2.HOGDescriptor(winSize,blockSize,blockStride,cellSize,nbins,derivAperture,winSigma,\n",
    "                        histogramNormType,L2HysThreshold,gammaCorrection,nlevels)\n",
    "#winStride=(0,0)\n",
    "# padding=(8,8)\n",
    "# locations=((10,10),(10,30),(30,10),(30,30))\n",
    "# hist = hog.compute(image,winStride,padding,locations)\n",
    "# hist = hog.compute(img, winStride=winStride)"
   ]
  },
  {
   "cell_type": "code",
   "execution_count": 136,
   "metadata": {},
   "outputs": [
    {
     "data": {
      "text/plain": [
       "1568"
      ]
     },
     "execution_count": 136,
     "metadata": {},
     "output_type": "execute_result"
    }
   ],
   "source": [
    "hist = hog.compute(positives[0], winStride=winStride)\n",
    "len(hist)"
   ]
  },
  {
   "cell_type": "code",
   "execution_count": null,
   "metadata": {},
   "outputs": [],
   "source": []
  },
  {
   "cell_type": "code",
   "execution_count": null,
   "metadata": {},
   "outputs": [],
   "source": []
  },
  {
   "cell_type": "code",
   "execution_count": null,
   "metadata": {},
   "outputs": [],
   "source": [
    "###DATA FOR SIGN RECOGNITION BY SVM "
   ]
  },
  {
   "cell_type": "code",
   "execution_count": 137,
   "metadata": {},
   "outputs": [],
   "source": [
    "def convert(sample):\n",
    "    return np.array([sample[:,:,0],sample[:,:,1],sample[:,:,2]])"
   ]
  },
  {
   "cell_type": "code",
   "execution_count": 142,
   "metadata": {},
   "outputs": [
    {
     "name": "stdout",
     "output_type": "stream",
     "text": [
      "15000\n",
      "3971\n",
      "(1568, 1)\n"
     ]
    }
   ],
   "source": [
    "# #extract HoGs for all positive samples, HoG fd of length 2916\n",
    "\n",
    "hog_pos_label = pos_label.copy()\n",
    "hog_positives = []\n",
    "for sample in positives:\n",
    "    hog_positives.append(hog.compute(sample))\n",
    "    \n",
    "#shuffle the result\n",
    "hog_positives = np.array(hog_positives)\n",
    "hog_pos_label = np.array(hog_pos_label)\n",
    "indexes = [i for i in range(0,len(hog_positives))]\n",
    "np.random.shuffle(indexes)\n",
    "hog_positives = hog_positives[indexes]\n",
    "hog_pos_label = hog_pos_label[indexes]\n",
    "\n",
    "#15000 for train, rest for test ~4,000\n",
    "hog_pos_train = hog_positives[:15000]\n",
    "hog_pos_train_label = hog_pos_label[:15000]\n",
    "hog_pos_test = hog_positives[15000:]\n",
    "hog_pos_test_label = hog_pos_label[15000:]\n",
    "\n",
    "print(len(hog_pos_train))\n",
    "print(len(hog_pos_test))\n",
    "print(hog_pos_train[0].shape)"
   ]
  },
  {
   "cell_type": "code",
   "execution_count": 140,
   "metadata": {},
   "outputs": [
    {
     "data": {
      "text/plain": [
       "array([[0.0734295 ],\n",
       "       [0.07081682],\n",
       "       [0.030188  ],\n",
       "       ...,\n",
       "       [0.        ],\n",
       "       [0.        ],\n",
       "       [0.00454998]], dtype=float32)"
      ]
     },
     "execution_count": 140,
     "metadata": {},
     "output_type": "execute_result"
    }
   ],
   "source": [
    "hog_positives[0]"
   ]
  },
  {
   "cell_type": "code",
   "execution_count": 143,
   "metadata": {},
   "outputs": [],
   "source": [
    "## Run SVM Classifier for Classification on HoG\n",
    "np.savez('/tmp/ml_classification', hog_pos_train=hog_pos_train, hog_pos_train_label=hog_pos_train_label,\n",
    "        hog_pos_test=hog_pos_test, hog_pos_test_label=hog_pos_test_label)"
   ]
  },
  {
   "cell_type": "code",
   "execution_count": null,
   "metadata": {},
   "outputs": [],
   "source": []
  },
  {
   "cell_type": "code",
   "execution_count": null,
   "metadata": {},
   "outputs": [],
   "source": [
    "###DATA FOR SIGN DETECTION BY SVM"
   ]
  },
  {
   "cell_type": "code",
   "execution_count": 152,
   "metadata": {},
   "outputs": [
    {
     "name": "stdout",
     "output_type": "stream",
     "text": [
      "35765\n",
      "35765\n",
      "35765\n"
     ]
    }
   ],
   "source": [
    "#extract HoGs for all positive and negative samples, HoG fd of length 2916\n",
    "total_hog = positives.copy()\n",
    "total_hog.extend(negatives)\n",
    "total_labels = [1]*len(positives)\n",
    "total_labels.extend([0]*len(negatives))\n",
    "print(len(total_hog))\n",
    "print(len(total_labels))\n",
    "print(len(negatives)+len(positives))"
   ]
  },
  {
   "cell_type": "code",
   "execution_count": 153,
   "metadata": {},
   "outputs": [
    {
     "name": "stdout",
     "output_type": "stream",
     "text": [
      "25000\n",
      "8000\n",
      "(1568, 1)\n"
     ]
    }
   ],
   "source": [
    "#extract HoGs for all samples\n",
    "all_ = []\n",
    "for sample in total_hog:\n",
    "    all_.append(hog.compute(sample))\n",
    "    \n",
    "#shuffle the result\n",
    "all_ = np.array(all_)\n",
    "total_labels = np.array(total_labels)\n",
    "indexes = [i for i in range(0,len(all_))]\n",
    "np.random.shuffle(indexes)\n",
    "total_hog = all_[indexes]\n",
    "total_labels = total_labels[indexes]\n",
    "\n",
    "#25000 for train, 8000 for test (throw out rest)\n",
    "total_hog_train = total_hog[:25000]\n",
    "total_hog_train_labels = total_labels[:25000]\n",
    "total_hog_test = total_hog[25000:33000]\n",
    "total_hog_test_labels = total_labels[25000:33000]\n",
    "\n",
    "print(len(total_hog_train))\n",
    "print(len(total_hog_test))\n",
    "print(total_hog_train[0].shape)"
   ]
  },
  {
   "cell_type": "code",
   "execution_count": 154,
   "metadata": {},
   "outputs": [],
   "source": [
    "##Run SVM Classifier for Dectection on HoG\n",
    "np.savez('/tmp/ml_detection', total_hog_train=total_hog_train, \n",
    "         total_hog_train_labels=total_hog_train_labels, total_hog_test=total_hog_test,\n",
    "        total_hog_test_labels=total_hog_test_labels)"
   ]
  },
  {
   "cell_type": "code",
   "execution_count": null,
   "metadata": {},
   "outputs": [],
   "source": []
  },
  {
   "cell_type": "code",
   "execution_count": null,
   "metadata": {},
   "outputs": [],
   "source": []
  },
  {
   "cell_type": "code",
   "execution_count": null,
   "metadata": {},
   "outputs": [],
   "source": []
  },
  {
   "cell_type": "code",
   "execution_count": null,
   "metadata": {},
   "outputs": [],
   "source": [
    "###ALTERNATIVE IMPLEMENTATION OF HOG JUST IN CASE"
   ]
  },
  {
   "cell_type": "code",
   "execution_count": 98,
   "metadata": {},
   "outputs": [],
   "source": [
    "all_ = convert(img)\n",
    "r = all_[0]\n",
    "g = all_[1]\n",
    "b = all_[2]"
   ]
  },
  {
   "cell_type": "code",
   "execution_count": 108,
   "metadata": {},
   "outputs": [
    {
     "data": {
      "text/plain": [
       "<matplotlib.image.AxesImage at 0x1822b9b00>"
      ]
     },
     "execution_count": 108,
     "metadata": {},
     "output_type": "execute_result"
    },
    {
     "data": {
      "image/png": "[encoded data removed]",
      "text/plain": [
       "<Figure size 432x288 with 1 Axes>"
      ]
     },
     "metadata": {},
     "output_type": "display_data"
    }
   ],
   "source": [
    "plt.imshow(img)"
   ]
  },
  {
   "cell_type": "code",
   "execution_count": 120,
   "metadata": {},
   "outputs": [],
   "source": [
    "fd_r, visual_r = skimage.feature.hog(r, orientations=8, pixels_per_cell=(5, 5),\n",
    "                    cells_per_block=(2, 2), block_norm=('L2-Hys'), visualise=True, transform_sqrt=True,\n",
    "                         feature_vector=True)\n",
    "\n",
    "fd_g, visual_g = skimage.feature.hog(g, orientations=8, pixels_per_cell=(5, 5),\n",
    "                    cells_per_block=(2, 2), block_norm=('L2-Hys'), visualise=True, transform_sqrt=True,\n",
    "                         feature_vector=True)\n",
    "\n",
    "fd_b, visual_b = skimage.feature.hog(b, orientations=8, pixels_per_cell=(5, 5),\n",
    "                    cells_per_block=(2, 2), block_norm=('L2-Hys'), visualise=True, transform_sqrt=True,\n",
    "                         feature_vector=True)"
   ]
  },
  {
   "cell_type": "code",
   "execution_count": 121,
   "metadata": {},
   "outputs": [
    {
     "data": {
      "text/plain": [
       "<matplotlib.image.AxesImage at 0x182b5a4a8>"
      ]
     },
     "execution_count": 121,
     "metadata": {},
     "output_type": "execute_result"
    },
    {
     "data": {
      "image/png": "[encoded data removed]",
      "text/plain": [
       "<Figure size 864x288 with 3 Axes>"
      ]
     },
     "metadata": {},
     "output_type": "display_data"
    }
   ],
   "source": [
    "fig, (ax1, ax2, ax3) = plt.subplots(1, 3, figsize=(12, 4), sharex=True, sharey=True)\n",
    "ax1.imshow(visual_r)\n",
    "ax2.imshow(visual_g)\n",
    "ax3.imshow(visual_b)"
   ]
  },
  {
   "cell_type": "code",
   "execution_count": 110,
   "metadata": {},
   "outputs": [
    {
     "name": "stdout",
     "output_type": "stream",
     "text": [
      "(800,)\n",
      "(34, 34)\n"
     ]
    },
    {
     "data": {
      "text/plain": [
       "<matplotlib.image.AxesImage at 0x181c7e278>"
      ]
     },
     "execution_count": 110,
     "metadata": {},
     "output_type": "execute_result"
    },
    {
     "data": {
      "image/png": "[encoded data removed]",
      "text/plain": [
       "<Figure size 432x288 with 1 Axes>"
      ]
     },
     "metadata": {},
     "output_type": "display_data"
    }
   ],
   "source": [
    "#to combine results must take maximum gradient at each pixel across all colors\n",
    "fd = np.maximum(np.maximum(fd_r,fd_g), fd_b)"
   ]
  },
  {
   "cell_type": "code",
   "execution_count": 32,
   "metadata": {},
   "outputs": [],
   "source": []
  },
  {
   "cell_type": "code",
   "execution_count": null,
   "metadata": {},
   "outputs": [],
   "source": []
  },
  {
   "cell_type": "code",
   "execution_count": 158,
   "metadata": {},
   "outputs": [],
   "source": [
    "##DATA FOR SIGN RECOGNITION BY CNN"
   ]
  },
  {
   "cell_type": "code",
   "execution_count": 155,
   "metadata": {},
   "outputs": [
    {
     "name": "stdout",
     "output_type": "stream",
     "text": [
      "22420 22420\n"
     ]
    }
   ],
   "source": [
    "##pickle data for LeNet5 CNN\n",
    "labels = [1]*len(positives)\n",
    "labels.extend([0]*len(negatives))\n",
    "data = positives\n",
    "data.extend(negatives)\n",
    "print(len(data),len(labels))"
   ]
  },
  {
   "cell_type": "code",
   "execution_count": 156,
   "metadata": {},
   "outputs": [
    {
     "data": {
      "text/plain": [
       "(40, 40, 3)"
      ]
     },
     "execution_count": 156,
     "metadata": {},
     "output_type": "execute_result"
    }
   ],
   "source": [
    "data[0].shape"
   ]
  },
  {
   "cell_type": "code",
   "execution_count": 158,
   "metadata": {},
   "outputs": [
    {
     "data": {
      "text/plain": [
       "(22420, 40, 40, 3)"
      ]
     },
     "execution_count": 158,
     "metadata": {},
     "output_type": "execute_result"
    }
   ],
   "source": [
    "data = np.array(data)\n",
    "data.shape"
   ]
  },
  {
   "cell_type": "code",
   "execution_count": 159,
   "metadata": {},
   "outputs": [
    {
     "data": {
      "text/plain": [
       "(22420,)"
      ]
     },
     "execution_count": 159,
     "metadata": {},
     "output_type": "execute_result"
    }
   ],
   "source": [
    "labels = np.array(labels)\n",
    "labels.shape"
   ]
  },
  {
   "cell_type": "code",
   "execution_count": 160,
   "metadata": {},
   "outputs": [],
   "source": [
    "np.savez('/tmp/train_data', data=data, labels=labels)"
   ]
  },
  {
   "cell_type": "code",
   "execution_count": 445,
   "metadata": {},
   "outputs": [],
   "source": [
    "positives = []"
   ]
  },
  {
   "cell_type": "code",
   "execution_count": 466,
   "metadata": {},
   "outputs": [],
   "source": [
    "#scale images to 0-1 rgb range\n",
    "for i in range(len(positives)):\n",
    "    positives[i] = positives[i] / np.max(positives[i])"
   ]
  },
  {
   "cell_type": "code",
   "execution_count": 475,
   "metadata": {},
   "outputs": [
    {
     "name": "stdout",
     "output_type": "stream",
     "text": [
      "0.26409031413612566\n"
     ]
    },
    {
     "data": {
      "text/plain": [
       "<matplotlib.image.AxesImage at 0x1b5103b38>"
      ]
     },
     "execution_count": 475,
     "metadata": {},
     "output_type": "execute_result"
    },
    {
     "data": {
      "image/png": "[encoded data removed]",
      "text/plain": [
       "<Figure size 432x288 with 1 Axes>"
      ]
     },
     "metadata": {},
     "output_type": "display_data"
    }
   ],
   "source": [
    "print(np.mean(positives[7734]))\n",
    "plt.imshow(positives[7734])"
   ]
  },
  {
   "cell_type": "code",
   "execution_count": 470,
   "metadata": {},
   "outputs": [],
   "source": [
    "##save data for LeNet5 CNN\n",
    "np.savez('/tmp/classification', positives=positives, pos_label=pos_label)"
   ]
  },
  {
   "cell_type": "code",
   "execution_count": null,
   "metadata": {},
   "outputs": [],
   "source": []
  },
  {
   "cell_type": "code",
   "execution_count": null,
   "metadata": {},
   "outputs": [],
   "source": [
    "##DATA FOR SIGN DETECTION BY CNN"
   ]
  },
  {
   "cell_type": "code",
   "execution_count": 318,
   "metadata": {},
   "outputs": [
    {
     "name": "stdout",
     "output_type": "stream",
     "text": [
      "35765\n",
      "35765\n",
      "35765\n"
     ]
    }
   ],
   "source": [
    "#group all positive and negative sample, into one training set for LeNet Detection\n",
    "total = positives.copy()\n",
    "total.extend(negatives)\n",
    "labels = [1]*len(positives)\n",
    "labels.extend([0]*len(negatives))\n",
    "print(len(total))\n",
    "print(len(labels))\n",
    "print(len(negatives)+len(positives))"
   ]
  },
  {
   "cell_type": "code",
   "execution_count": 319,
   "metadata": {},
   "outputs": [],
   "source": [
    "#shuffle the samples\n",
    "total = np.array(total)\n",
    "labels = np.array(labels)\n",
    "indexes = [i for i in range(0,len(total))]\n",
    "np.random.shuffle(indexes)\n",
    "total = total[indexes]\n",
    "labels = labels[indexes]"
   ]
  },
  {
   "cell_type": "code",
   "execution_count": 320,
   "metadata": {},
   "outputs": [
    {
     "name": "stdout",
     "output_type": "stream",
     "text": [
      "255\n",
      "0\n",
      "(40, 40, 3)\n",
      "<class 'numpy.ndarray'>\n"
     ]
    }
   ],
   "source": [
    "print(np.max(np.max(total)))\n",
    "print(np.min(np.min(total)))\n",
    "print(total[0].shape)\n",
    "print(type(total[0]))"
   ]
  },
  {
   "cell_type": "code",
   "execution_count": 314,
   "metadata": {},
   "outputs": [],
   "source": [
    "import numpy.ma as ma"
   ]
  },
  {
   "cell_type": "code",
   "execution_count": 322,
   "metadata": {},
   "outputs": [],
   "source": [
    "#CNN train better if you scale images to 0-1 rgb range\n",
    "for i in range(len(total)):\n",
    "    #total[i] = ma.log(total[i]).filled(0)\n",
    "    total[i] = total[i] / np.mean(total[i])"
   ]
  },
  {
   "cell_type": "code",
   "execution_count": 332,
   "metadata": {},
   "outputs": [],
   "source": [
    "# n = np.random.randint(len(total))\n",
    "# print(labels[n])\n",
    "# plt.imshow(total[n])"
   ]
  },
  {
   "cell_type": "code",
   "execution_count": 327,
   "metadata": {},
   "outputs": [],
   "source": [
    "#Input to CNN needs to be in converted form\n",
    "new_total = []\n",
    "for i in range(len(total)):\n",
    "    new_total.append(convert(total[i]))\n",
    "total = new_total"
   ]
  },
  {
   "cell_type": "code",
   "execution_count": 329,
   "metadata": {},
   "outputs": [
    {
     "name": "stdout",
     "output_type": "stream",
     "text": [
      "17\n",
      "0\n"
     ]
    },
    {
     "data": {
      "text/plain": [
       "(3, 40, 40)"
      ]
     },
     "execution_count": 329,
     "metadata": {},
     "output_type": "execute_result"
    }
   ],
   "source": [
    "print(np.max(np.max(total)))\n",
    "print(np.min(np.min(total)))\n",
    "total[0].shape"
   ]
  },
  {
   "cell_type": "code",
   "execution_count": 330,
   "metadata": {},
   "outputs": [],
   "source": [
    "##save data for LeNet5 CNN\n",
    "np.savez('/tmp/dl_detection', total=total, labels=labels)"
   ]
  },
  {
   "cell_type": "code",
   "execution_count": null,
   "metadata": {},
   "outputs": [],
   "source": []
  },
  {
   "cell_type": "code",
   "execution_count": 334,
   "metadata": {},
   "outputs": [
    {
     "data": {
      "text/plain": [
       "array([0.11756168, 0.11465893, 0.12046444, 0.1233672 , 0.12772134,\n",
       "       0.1161103 , 0.09869376, 0.07692308, 0.04499274, 0.05950653])"
      ]
     },
     "execution_count": 334,
     "metadata": {},
     "output_type": "execute_result"
    }
   ],
   "source": [
    "dumdum = np.array([81, 79, 83, 85, 88, 80, 68, 53, 31, 41])\n",
    "dumdum = dumdum / np.sum(dumdum)\n",
    "dumdum"
   ]
  },
  {
   "cell_type": "code",
   "execution_count": null,
   "metadata": {},
   "outputs": [],
   "source": []
  }
 ],
 "metadata": {
  "kernelspec": {
   "display_name": "Python 3",
   "language": "python",
   "name": "python3"
  },
  "language_info": {
   "codemirror_mode": {
    "name": "ipython",
    "version": 3
   },
   "file_extension": ".py",
   "mimetype": "text/x-python",
   "name": "python",
   "nbconvert_exporter": "python",
   "pygments_lexer": "ipython3",
   "version": "3.6.4"
  }
 },
 "nbformat": 4,
 "nbformat_minor": 2
}
